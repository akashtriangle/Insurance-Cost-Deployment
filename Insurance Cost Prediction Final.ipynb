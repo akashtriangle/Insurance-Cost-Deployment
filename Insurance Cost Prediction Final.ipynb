{
 "cells": [
  {
   "cell_type": "markdown",
   "id": "22b07efb-2947-4143-969c-cdb20f349277",
   "metadata": {},
   "source": [
    "## DEFINE PROBLEM STATEMENT"
   ]
  },
  {
   "cell_type": "raw",
   "id": "a601512a-db07-4a21-a0d1-ca6c76e3ed45",
   "metadata": {},
   "source": [
    "Predict insurance cost to be paid by company for patient."
   ]
  },
  {
   "cell_type": "markdown",
   "id": "fd5b7e6d-c159-4029-91b6-6ea3470fe72c",
   "metadata": {},
   "source": [
    "## IMPORT LIBRARIES"
   ]
  },
  {
   "cell_type": "code",
   "execution_count": 3,
   "id": "a31fd2cf-591d-4a3d-b162-56ff63833932",
   "metadata": {},
   "outputs": [],
   "source": [
    "import numpy as np\n",
    "import pandas as pd\n",
    "import matplotlib.pyplot as plt\n",
    "%matplotlib inline\n",
    "import seaborn as sns"
   ]
  },
  {
   "cell_type": "code",
   "execution_count": 4,
   "id": "3807006f-de39-4d2e-99cb-f65b79efb5ef",
   "metadata": {},
   "outputs": [],
   "source": [
    "# for EDA\n",
    "from scipy.stats import skew\n",
    "import scipy.stats\n",
    "import pingouin"
   ]
  },
  {
   "cell_type": "code",
   "execution_count": 335,
   "id": "94062dc2-2147-4627-be2c-4576f09c29ee",
   "metadata": {},
   "outputs": [],
   "source": [
    "from sklearn.preprocessing import LabelEncoder"
   ]
  },
  {
   "cell_type": "code",
   "execution_count": 5,
   "id": "277ce13e-aed1-4569-9171-0d2c17e1b1e1",
   "metadata": {},
   "outputs": [],
   "source": [
    "# for preprocessing\n",
    "# -------  duplicate handling will be done manually\n",
    "# -------  handling missing values\n",
    "# -------  nothing for transformation\n",
    "# -------  nothing for outlier handling\n",
    "from sklearn.preprocessing import MinMaxScaler  #outlier handling\n",
    "from sklearn.preprocessing import OneHotEncoder"
   ]
  },
  {
   "cell_type": "code",
   "execution_count": 6,
   "id": "1905a1dd-f981-4302-a060-056e0a4f581b",
   "metadata": {},
   "outputs": [],
   "source": [
    "from sklearn.model_selection import train_test_split"
   ]
  },
  {
   "cell_type": "code",
   "execution_count": 7,
   "id": "905427c1-342f-4e13-89c8-4efbd5d2e811",
   "metadata": {},
   "outputs": [],
   "source": [
    "from sklearn.feature_selection import f_regression,mutual_info_regression"
   ]
  },
  {
   "cell_type": "code",
   "execution_count": 8,
   "id": "da3aed6f-1b45-4e03-8dcd-1e1aa336ab57",
   "metadata": {},
   "outputs": [],
   "source": [
    "from sklearn.linear_model import LinearRegression\n",
    "from sklearn.svm import SVR\n",
    "from sklearn.neighbors import KNeighborsRegressor\n",
    "from sklearn.tree import DecisionTreeRegressor\n",
    "from sklearn.ensemble import RandomForestRegressor, GradientBoostingRegressor\n",
    "from xgboost import XGBRegressor"
   ]
  },
  {
   "cell_type": "code",
   "execution_count": 9,
   "id": "3ac56b76-4321-43ca-a50b-0a1922ebfbef",
   "metadata": {},
   "outputs": [],
   "source": [
    "from sklearn.metrics import mean_squared_error, mean_absolute_error, r2_score"
   ]
  },
  {
   "cell_type": "markdown",
   "id": "4e75eb4e-65ab-48bd-b844-86e914dc1314",
   "metadata": {},
   "source": [
    "## LOAD DATA"
   ]
  },
  {
   "cell_type": "code",
   "execution_count": 11,
   "id": "b5e4d318-efda-453b-b2f2-a27e504989f9",
   "metadata": {},
   "outputs": [],
   "source": [
    "dataset = pd.read_csv('datasets_13720_18513_insurance(1).csv')\n",
    "dataset\n",
    "df_m = dataset.copy() #for manual way\n",
    "df_f = dataset.copy() #for fully automated pipeline"
   ]
  },
  {
   "cell_type": "code",
   "execution_count": null,
   "id": "e877f5e4-5d14-4a7c-944f-36c198165f03",
   "metadata": {},
   "outputs": [],
   "source": []
  },
  {
   "cell_type": "markdown",
   "id": "b23c6cb5-32be-46ea-a3f1-82054eb71d9f",
   "metadata": {},
   "source": [
    "## BASIC CHECK"
   ]
  },
  {
   "cell_type": "code",
   "execution_count": 13,
   "id": "cb0ff446-e47c-44f0-9636-586282f0e93b",
   "metadata": {},
   "outputs": [
    {
     "data": {
      "text/plain": [
       "(1338, 7)"
      ]
     },
     "execution_count": 13,
     "metadata": {},
     "output_type": "execute_result"
    }
   ],
   "source": [
    "df_m.shape"
   ]
  },
  {
   "cell_type": "raw",
   "id": "27f2abea-ff6e-4aa9-a094-f377ddb6e781",
   "metadata": {},
   "source": [
    "Insights:\n",
    "- no of rows: 1338\n",
    "- no of cols: 7"
   ]
  },
  {
   "cell_type": "code",
   "execution_count": 14,
   "id": "84dbe194-2bf0-4a2b-b5b0-7b82a4b1a2f8",
   "metadata": {},
   "outputs": [
    {
     "name": "stdout",
     "output_type": "stream",
     "text": [
      "<class 'pandas.core.frame.DataFrame'>\n",
      "RangeIndex: 1338 entries, 0 to 1337\n",
      "Data columns (total 7 columns):\n",
      " #   Column    Non-Null Count  Dtype  \n",
      "---  ------    --------------  -----  \n",
      " 0   age       1338 non-null   int64  \n",
      " 1   sex       1338 non-null   object \n",
      " 2   bmi       1338 non-null   float64\n",
      " 3   children  1338 non-null   int64  \n",
      " 4   smoker    1338 non-null   object \n",
      " 5   region    1338 non-null   object \n",
      " 6   charges   1338 non-null   float64\n",
      "dtypes: float64(2), int64(2), object(3)\n",
      "memory usage: 73.3+ KB\n"
     ]
    }
   ],
   "source": [
    "df_m.info()"
   ]
  },
  {
   "cell_type": "raw",
   "id": "3022229a-ed56-4689-9d87-bd2b093573b5",
   "metadata": {},
   "source": [
    "Insights\n",
    "-index: 0 to 1337\n",
    "-non null count: 0\n",
    "-dtypes: float64, int64, object\n",
    "-memory used by dataframe in RAM: 73.3+ KB"
   ]
  },
  {
   "cell_type": "code",
   "execution_count": 15,
   "id": "cd38cbc9-2f14-4024-ba5b-d251c599ecf3",
   "metadata": {},
   "outputs": [
    {
     "data": {
      "text/html": [
       "<div>\n",
       "<style scoped>\n",
       "    .dataframe tbody tr th:only-of-type {\n",
       "        vertical-align: middle;\n",
       "    }\n",
       "\n",
       "    .dataframe tbody tr th {\n",
       "        vertical-align: top;\n",
       "    }\n",
       "\n",
       "    .dataframe thead th {\n",
       "        text-align: right;\n",
       "    }\n",
       "</style>\n",
       "<table border=\"1\" class=\"dataframe\">\n",
       "  <thead>\n",
       "    <tr style=\"text-align: right;\">\n",
       "      <th></th>\n",
       "      <th>age</th>\n",
       "      <th>bmi</th>\n",
       "      <th>children</th>\n",
       "      <th>charges</th>\n",
       "    </tr>\n",
       "  </thead>\n",
       "  <tbody>\n",
       "    <tr>\n",
       "      <th>count</th>\n",
       "      <td>1338.000000</td>\n",
       "      <td>1338.000000</td>\n",
       "      <td>1338.000000</td>\n",
       "      <td>1338.000000</td>\n",
       "    </tr>\n",
       "    <tr>\n",
       "      <th>mean</th>\n",
       "      <td>39.207025</td>\n",
       "      <td>30.663397</td>\n",
       "      <td>1.094918</td>\n",
       "      <td>13270.422265</td>\n",
       "    </tr>\n",
       "    <tr>\n",
       "      <th>std</th>\n",
       "      <td>14.049960</td>\n",
       "      <td>6.098187</td>\n",
       "      <td>1.205493</td>\n",
       "      <td>12110.011237</td>\n",
       "    </tr>\n",
       "    <tr>\n",
       "      <th>min</th>\n",
       "      <td>18.000000</td>\n",
       "      <td>15.960000</td>\n",
       "      <td>0.000000</td>\n",
       "      <td>1121.873900</td>\n",
       "    </tr>\n",
       "    <tr>\n",
       "      <th>25%</th>\n",
       "      <td>27.000000</td>\n",
       "      <td>26.296250</td>\n",
       "      <td>0.000000</td>\n",
       "      <td>4740.287150</td>\n",
       "    </tr>\n",
       "    <tr>\n",
       "      <th>50%</th>\n",
       "      <td>39.000000</td>\n",
       "      <td>30.400000</td>\n",
       "      <td>1.000000</td>\n",
       "      <td>9382.033000</td>\n",
       "    </tr>\n",
       "    <tr>\n",
       "      <th>75%</th>\n",
       "      <td>51.000000</td>\n",
       "      <td>34.693750</td>\n",
       "      <td>2.000000</td>\n",
       "      <td>16639.912515</td>\n",
       "    </tr>\n",
       "    <tr>\n",
       "      <th>max</th>\n",
       "      <td>64.000000</td>\n",
       "      <td>53.130000</td>\n",
       "      <td>5.000000</td>\n",
       "      <td>63770.428010</td>\n",
       "    </tr>\n",
       "  </tbody>\n",
       "</table>\n",
       "</div>"
      ],
      "text/plain": [
       "               age          bmi     children       charges\n",
       "count  1338.000000  1338.000000  1338.000000   1338.000000\n",
       "mean     39.207025    30.663397     1.094918  13270.422265\n",
       "std      14.049960     6.098187     1.205493  12110.011237\n",
       "min      18.000000    15.960000     0.000000   1121.873900\n",
       "25%      27.000000    26.296250     0.000000   4740.287150\n",
       "50%      39.000000    30.400000     1.000000   9382.033000\n",
       "75%      51.000000    34.693750     2.000000  16639.912515\n",
       "max      64.000000    53.130000     5.000000  63770.428010"
      ]
     },
     "execution_count": 15,
     "metadata": {},
     "output_type": "execute_result"
    }
   ],
   "source": [
    "df_m.describe()"
   ]
  },
  {
   "cell_type": "raw",
   "id": "bef155ae-104f-4931-a37d-29db7b9e07bb",
   "metadata": {},
   "source": [
    "Insights\n",
    "-Age is mostly normally distributed. Most people are in age 27 to 51 years old. Youngest person is 18 years old and eldest person is 64 years old. Half of the people are above 39 years old.Values vary considerably.\n",
    "-bmi is also quite normally distributed. Values do vary on considerable scale. Mean is higher (i.e. overweight) than ideal BMI \n",
    "-children: Most people have children between 0 and 2.\n",
    "-charges col is left skewed. min insurance amount was 1121.87 and max was 63770.428 There is a huge variance in values. Around 50% of people have insurance amount more than 9382.033"
   ]
  },
  {
   "cell_type": "code",
   "execution_count": 16,
   "id": "6441df98-87db-41ac-bb7f-4adcb903057d",
   "metadata": {},
   "outputs": [
    {
     "data": {
      "text/html": [
       "<div>\n",
       "<style scoped>\n",
       "    .dataframe tbody tr th:only-of-type {\n",
       "        vertical-align: middle;\n",
       "    }\n",
       "\n",
       "    .dataframe tbody tr th {\n",
       "        vertical-align: top;\n",
       "    }\n",
       "\n",
       "    .dataframe thead th {\n",
       "        text-align: right;\n",
       "    }\n",
       "</style>\n",
       "<table border=\"1\" class=\"dataframe\">\n",
       "  <thead>\n",
       "    <tr style=\"text-align: right;\">\n",
       "      <th></th>\n",
       "      <th>sex</th>\n",
       "      <th>smoker</th>\n",
       "      <th>region</th>\n",
       "    </tr>\n",
       "  </thead>\n",
       "  <tbody>\n",
       "    <tr>\n",
       "      <th>count</th>\n",
       "      <td>1338</td>\n",
       "      <td>1338</td>\n",
       "      <td>1338</td>\n",
       "    </tr>\n",
       "    <tr>\n",
       "      <th>unique</th>\n",
       "      <td>2</td>\n",
       "      <td>2</td>\n",
       "      <td>4</td>\n",
       "    </tr>\n",
       "    <tr>\n",
       "      <th>top</th>\n",
       "      <td>male</td>\n",
       "      <td>no</td>\n",
       "      <td>southeast</td>\n",
       "    </tr>\n",
       "    <tr>\n",
       "      <th>freq</th>\n",
       "      <td>676</td>\n",
       "      <td>1064</td>\n",
       "      <td>364</td>\n",
       "    </tr>\n",
       "  </tbody>\n",
       "</table>\n",
       "</div>"
      ],
      "text/plain": [
       "         sex smoker     region\n",
       "count   1338   1338       1338\n",
       "unique     2      2          4\n",
       "top     male     no  southeast\n",
       "freq     676   1064        364"
      ]
     },
     "execution_count": 16,
     "metadata": {},
     "output_type": "execute_result"
    }
   ],
   "source": [
    "df_m.describe(include='O')"
   ]
  },
  {
   "cell_type": "raw",
   "id": "d33e12fd-387c-44ee-8190-bc00d79ec71e",
   "metadata": {},
   "source": [
    "Insights\n",
    "-Dataset has more info on males.\n",
    "-Majority people are non smokers."
   ]
  },
  {
   "cell_type": "code",
   "execution_count": null,
   "id": "889c67f4-fa2e-4eb4-9d95-ca5603629eac",
   "metadata": {},
   "outputs": [],
   "source": []
  },
  {
   "cell_type": "markdown",
   "id": "2e933c99-762a-49f0-9304-2af3cff3a5e9",
   "metadata": {},
   "source": [
    "## DOMAIN ANALYSIS"
   ]
  },
  {
   "cell_type": "raw",
   "id": "7c331eac-c974-4efa-a18f-90c85c0044cc",
   "metadata": {},
   "source": []
  },
  {
   "cell_type": "code",
   "execution_count": null,
   "id": "cd8fab9b-1d4e-413f-9b27-fd49e26ccf9d",
   "metadata": {},
   "outputs": [],
   "source": []
  },
  {
   "cell_type": "markdown",
   "id": "967acbbe-3069-4472-8209-e1c1b26c1d00",
   "metadata": {},
   "source": [
    "## EDA"
   ]
  },
  {
   "cell_type": "code",
   "execution_count": 19,
   "id": "889687c4-e349-4f25-8658-015f9d06bb03",
   "metadata": {},
   "outputs": [],
   "source": [
    "# STATISTICAL EDA"
   ]
  },
  {
   "cell_type": "code",
   "execution_count": 20,
   "id": "b90b08ab-d100-4685-bd95-6aeaaf9e96b7",
   "metadata": {},
   "outputs": [
    {
     "name": "stdout",
     "output_type": "stream",
     "text": [
      "['age', 'bmi', 'children', 'charges']\n",
      "['sex', 'smoker', 'region']\n"
     ]
    }
   ],
   "source": [
    "numeric = [ col for col in df_m.select_dtypes(include=np.number).columns]\n",
    "categoric = [ col for col in df_m.columns if col not in numeric]\n",
    "print(numeric)\n",
    "print(categoric)"
   ]
  },
  {
   "cell_type": "code",
   "execution_count": null,
   "id": "6fea1619-f9b6-401d-8bc6-10fc58cd33dd",
   "metadata": {},
   "outputs": [],
   "source": []
  },
  {
   "cell_type": "code",
   "execution_count": 21,
   "id": "38f8af7d-7971-4a4b-8d10-e5d29a15b343",
   "metadata": {},
   "outputs": [],
   "source": [
    "# normal and non normal col"
   ]
  },
  {
   "cell_type": "code",
   "execution_count": 22,
   "id": "1cc53913-0bdf-4d3e-9f6a-f664c160ff1b",
   "metadata": {},
   "outputs": [
    {
     "name": "stdout",
     "output_type": "stream",
     "text": [
      "[]\n",
      "['age', 'bmi', 'children', 'charges']\n",
      "[]\n"
     ]
    }
   ],
   "source": [
    "normal=[]\n",
    "non_normal=[]\n",
    "uncertain=[]\n",
    "for col in numeric:\n",
    "    p = pingouin.normality(df_m[col]).loc[col,'pval']\n",
    "    if p>0.05:\n",
    "        normal.append(col)\n",
    "    elif p<0.01:\n",
    "        non_normal.append(col)\n",
    "    else:\n",
    "        uncertain.append(col)\n",
    "print(normal)\n",
    "print(non_normal)\n",
    "print(uncertain)"
   ]
  },
  {
   "cell_type": "code",
   "execution_count": 23,
   "id": "8136c4c2-45fe-4a33-b291-8ab1d6ac5de4",
   "metadata": {},
   "outputs": [
    {
     "name": "stdout",
     "output_type": "stream",
     "text": [
      "['age', 'bmi', 'children']\n"
     ]
    }
   ],
   "source": [
    "non_normal.remove('charges')\n",
    "print(non_normal)"
   ]
  },
  {
   "cell_type": "code",
   "execution_count": null,
   "id": "06118549-2688-4823-9c86-75f0b96ea5c2",
   "metadata": {},
   "outputs": [],
   "source": []
  },
  {
   "cell_type": "code",
   "execution_count": 24,
   "id": "4d8d4fb3-f7bf-4151-a0fc-7ad869ce0b85",
   "metadata": {},
   "outputs": [],
   "source": [
    "# checking skewness"
   ]
  },
  {
   "cell_type": "code",
   "execution_count": 25,
   "id": "b03fa726-289c-4947-b0e1-04fbfea62770",
   "metadata": {},
   "outputs": [
    {
     "name": "stdout",
     "output_type": "stream",
     "text": [
      "normal_moderate []\n",
      "normal_heavy []\n",
      "normal_fairly []\n",
      "non_normal_moderate ['children']\n",
      "non_normal_heavy []\n",
      "non_normal_fairly ['age', 'bmi']\n",
      "uncertain_moderate []\n",
      "uncertain_heavy []\n",
      "uncertain_fairly []\n"
     ]
    }
   ],
   "source": [
    "normal_moderate=[]\n",
    "normal_heavy=[]\n",
    "non_normal_moderate=[]\n",
    "non_normal_heavy=[]\n",
    "normal_fairly=[]\n",
    "non_normal_fairly=[]\n",
    "uncertain_moderate=[]\n",
    "uncertain_heavy=[]\n",
    "uncertain_fairly=[]\n",
    "skewness = abs(df_m[numeric].skew())\n",
    "for col in normal:\n",
    "    if 0.5<=skewness[col]<=1.0:\n",
    "        normal_moderate.append(col)\n",
    "    elif skewness[col]>1.0:\n",
    "        normal_heavy.append(col)\n",
    "    elif skewness[col]<0.5:\n",
    "        normal_fairly.append(col)\n",
    "for col in non_normal:\n",
    "    if 0.5<=skewness[col]<=1.0:\n",
    "        non_normal_moderate.append(col)\n",
    "    elif skewness[col]>1.0:\n",
    "        non_normal_heavy.append(col)\n",
    "    elif (skewness[col]<0.5):\n",
    "        non_normal_fairly.append(col)\n",
    "for col in uncertain:\n",
    "    if 0.5<=skewness[col]<=1.0:\n",
    "        uncertain_moderate.append(col)\n",
    "    elif skewness[col]>1.0:\n",
    "        uncertain_heavy.append(col)\n",
    "    elif (skewness[col]<0.5):\n",
    "        uncertain_fairly.append(col)\n",
    "print('normal_moderate',normal_moderate)\n",
    "print('normal_heavy',normal_heavy)\n",
    "print('normal_fairly',normal_fairly)\n",
    "print('non_normal_moderate',non_normal_moderate)\n",
    "print('non_normal_heavy',non_normal_heavy)\n",
    "print('non_normal_fairly',non_normal_fairly)\n",
    "print('uncertain_moderate',uncertain_moderate)\n",
    "print('uncertain_heavy',uncertain_heavy)\n",
    "print('uncertain_fairly',uncertain_fairly)"
   ]
  },
  {
   "cell_type": "raw",
   "id": "da51e8b8-72b8-4e4b-a83d-eaea8b1390e4",
   "metadata": {},
   "source": [
    "Insights:\n",
    "- children col was found to have moderate skew and it is non normal distributed.\n",
    "- age, bmi column was non normal and was fairly skewed."
   ]
  },
  {
   "cell_type": "code",
   "execution_count": 26,
   "id": "1d4ca87d-7d08-475a-a906-4e7c23b908bb",
   "metadata": {},
   "outputs": [],
   "source": [
    "# VIZUALIZATION EDA"
   ]
  },
  {
   "cell_type": "code",
   "execution_count": null,
   "id": "7b9d92e7-8475-480f-bf80-2e707ac0ab5e",
   "metadata": {},
   "outputs": [],
   "source": []
  },
  {
   "cell_type": "markdown",
   "id": "ab0eac2a-25ed-4b0f-bb89-c56f4e06b28c",
   "metadata": {},
   "source": [
    "# MANUAL WAY DS"
   ]
  },
  {
   "cell_type": "code",
   "execution_count": null,
   "id": "6bb847ce-8b34-4410-84e4-053f63824336",
   "metadata": {},
   "outputs": [],
   "source": []
  },
  {
   "cell_type": "markdown",
   "id": "d5ba1c29-2c7b-479d-b6ac-564518b5ac3a",
   "metadata": {},
   "source": [
    "## create X, y"
   ]
  },
  {
   "cell_type": "code",
   "execution_count": 29,
   "id": "57210a9e-4e10-4f51-a7e9-d9fece2ca549",
   "metadata": {},
   "outputs": [
    {
     "data": {
      "text/plain": [
       "Index(['age', 'sex', 'bmi', 'children', 'smoker', 'region', 'charges'], dtype='object')"
      ]
     },
     "execution_count": 29,
     "metadata": {},
     "output_type": "execute_result"
    }
   ],
   "source": [
    "df_m.columns"
   ]
  },
  {
   "cell_type": "code",
   "execution_count": 30,
   "id": "ae7e498e-b017-4f00-a3d5-06e66fe7c1e6",
   "metadata": {},
   "outputs": [],
   "source": [
    "X = df_m.drop(columns='charges')\n",
    "y = df_m['charges']"
   ]
  },
  {
   "cell_type": "markdown",
   "id": "f194e15b-fc55-4597-9b58-60e32e19cd33",
   "metadata": {},
   "source": [
    "## split in train test data"
   ]
  },
  {
   "cell_type": "code",
   "execution_count": 32,
   "id": "1a3b7bee-6886-4f66-b929-03c9c4d1e7f5",
   "metadata": {},
   "outputs": [],
   "source": [
    "xtrain,xtest,ytrain,ytest = train_test_split(X,y,test_size=0.2,random_state=42)"
   ]
  },
  {
   "cell_type": "code",
   "execution_count": 33,
   "id": "bbe699e4-281e-4be8-ae03-102c18d3864e",
   "metadata": {},
   "outputs": [
    {
     "data": {
      "text/plain": [
       "1.5158796580240388"
      ]
     },
     "execution_count": 33,
     "metadata": {},
     "output_type": "execute_result"
    }
   ],
   "source": [
    "y.skew()"
   ]
  },
  {
   "cell_type": "code",
   "execution_count": 34,
   "id": "c9d2dce6-e13a-46ae-a089-8b3440f881fd",
   "metadata": {},
   "outputs": [],
   "source": [
    "ytrain = np.log1p(ytrain)\n",
    "ytest = np.log1p(ytest)"
   ]
  },
  {
   "cell_type": "markdown",
   "id": "be5ce259-8392-404b-8eff-3f9b0af95417",
   "metadata": {},
   "source": [
    "## DATA PREPROCESSING"
   ]
  },
  {
   "cell_type": "code",
   "execution_count": 36,
   "id": "e5f541a0-a742-43c1-8e95-0b442e888af9",
   "metadata": {},
   "outputs": [],
   "source": [
    "# duplicate handling"
   ]
  },
  {
   "cell_type": "code",
   "execution_count": 37,
   "id": "8654a65b-f5f2-43bd-af56-31e176a5972b",
   "metadata": {},
   "outputs": [
    {
     "data": {
      "text/plain": [
       "1"
      ]
     },
     "execution_count": 37,
     "metadata": {},
     "output_type": "execute_result"
    }
   ],
   "source": [
    "df_m.duplicated().sum()"
   ]
  },
  {
   "cell_type": "code",
   "execution_count": 38,
   "id": "80fb4703-a031-4766-a1b7-e40d06a8e0fb",
   "metadata": {},
   "outputs": [],
   "source": [
    "df_m.drop_duplicates(inplace=True)"
   ]
  },
  {
   "cell_type": "code",
   "execution_count": 39,
   "id": "a3978ff5-b3b3-4071-8f67-36e6e6b1ee5a",
   "metadata": {},
   "outputs": [
    {
     "data": {
      "text/plain": [
       "0"
      ]
     },
     "execution_count": 39,
     "metadata": {},
     "output_type": "execute_result"
    }
   ],
   "source": [
    "df_m.duplicated().sum()"
   ]
  },
  {
   "cell_type": "raw",
   "id": "d9b73c09-cb60-4355-a261-f700caab3030",
   "metadata": {},
   "source": [
    "thus we see duplicates have been handled."
   ]
  },
  {
   "cell_type": "code",
   "execution_count": null,
   "id": "41d05e79-c900-4843-877e-7fd8013e39fe",
   "metadata": {},
   "outputs": [],
   "source": []
  },
  {
   "cell_type": "code",
   "execution_count": 40,
   "id": "0ad537fe-3e31-413f-85b8-317ffd850eb9",
   "metadata": {},
   "outputs": [],
   "source": [
    "# missing value handling"
   ]
  },
  {
   "cell_type": "code",
   "execution_count": 41,
   "id": "2758a77b-8154-40cc-8b4b-e67ce0c489a7",
   "metadata": {},
   "outputs": [
    {
     "data": {
      "text/plain": [
       "age         0\n",
       "sex         0\n",
       "bmi         0\n",
       "children    0\n",
       "smoker      0\n",
       "region      0\n",
       "charges     0\n",
       "dtype: int64"
      ]
     },
     "execution_count": 41,
     "metadata": {},
     "output_type": "execute_result"
    }
   ],
   "source": [
    "df_m.isnull().sum()"
   ]
  },
  {
   "cell_type": "raw",
   "id": "288bf52f-f887-4b0a-a18f-79bb9ab225c2",
   "metadata": {},
   "source": [
    "as we see dataset has no missing values."
   ]
  },
  {
   "cell_type": "code",
   "execution_count": null,
   "id": "799a5792-6f5d-4ddb-8740-dbe921b347e7",
   "metadata": {},
   "outputs": [],
   "source": []
  },
  {
   "cell_type": "code",
   "execution_count": null,
   "id": "676b6080-ad41-46ed-91ed-d325faf167f1",
   "metadata": {},
   "outputs": [],
   "source": []
  },
  {
   "cell_type": "code",
   "execution_count": null,
   "id": "63dd9a90-4a5b-413d-ac51-52e760128049",
   "metadata": {},
   "outputs": [],
   "source": []
  },
  {
   "cell_type": "code",
   "execution_count": 42,
   "id": "2b3fce5f-51d1-47b8-a60d-402a1dc10889",
   "metadata": {},
   "outputs": [
    {
     "data": {
      "text/plain": [
       "'xtrain_m1 = xtrain.copy()\\nxtest_m1 = xtest.copy()\\nytrain_m1 = ytrain.copy()\\nytest_m1 = ytest.copy()'"
      ]
     },
     "execution_count": 42,
     "metadata": {},
     "output_type": "execute_result"
    }
   ],
   "source": [
    "# creating copies for experimentation\n",
    "# method 1: learning from train and applying to test  \n",
    "xtrain_m1 = xtrain.copy()\n",
    "xtest_m1 = xtest.copy()\n",
    "ytrain_m1 = ytrain.copy()\n",
    "ytest_m1 = ytest.copy()\n",
    "# method 2\n",
    "'''xtrain_m1 = xtrain.copy()\n",
    "xtest_m1 = xtest.copy()\n",
    "ytrain_m1 = ytrain.copy()\n",
    "ytest_m1 = ytest.copy()'''"
   ]
  },
  {
   "cell_type": "code",
   "execution_count": null,
   "id": "a5664bde-959d-4860-895b-40b7d6620df7",
   "metadata": {},
   "outputs": [],
   "source": []
  },
  {
   "cell_type": "code",
   "execution_count": null,
   "id": "761c27b7-75b8-46d1-ab96-e6b7b25e53d0",
   "metadata": {},
   "outputs": [],
   "source": []
  },
  {
   "cell_type": "code",
   "execution_count": 43,
   "id": "901f29c6-2c8a-4e35-af3e-9cc53d5fb079",
   "metadata": {},
   "outputs": [],
   "source": [
    "# OUTLIER HANDLING"
   ]
  },
  {
   "cell_type": "code",
   "execution_count": 44,
   "id": "c526029e-f8a0-4fd6-b5cf-0270636932d5",
   "metadata": {},
   "outputs": [],
   "source": [
    "# outliers in xtrain"
   ]
  },
  {
   "cell_type": "code",
   "execution_count": 45,
   "id": "9d0843ee-4799-4d26-927c-1923a670221e",
   "metadata": {
    "scrolled": true
   },
   "outputs": [
    {
     "data": {
      "image/png": "[encoded data removed]",
      "text/plain": [
       "<Figure size 800x600 with 1 Axes>"
      ]
     },
     "metadata": {},
     "output_type": "display_data"
    },
    {
     "data": {
      "image/png": "[encoded data removed]",
      "text/plain": [
       "<Figure size 800x600 with 1 Axes>"
      ]
     },
     "metadata": {},
     "output_type": "display_data"
    },
    {
     "data": {
      "image/png": "[encoded data removed]",
      "text/plain": [
       "<Figure size 800x600 with 1 Axes>"
      ]
     },
     "metadata": {},
     "output_type": "display_data"
    }
   ],
   "source": [
    "for col in numeric:\n",
    "    if (col != 'charges'):\n",
    "        plt.figure(figsize=(8,6))\n",
    "        sns.boxplot(xtrain[col])\n",
    "        plt.title(f'{col}')\n",
    "        plt.tight_layout()\n",
    "        plt.show()"
   ]
  },
  {
   "cell_type": "code",
   "execution_count": 46,
   "id": "2920e2f8-1efe-4134-a907-0cabe4b18646",
   "metadata": {},
   "outputs": [
    {
     "name": "stdout",
     "output_type": "stream",
     "text": [
      "13.76812499999999 46.93312500000001\n"
     ]
    }
   ],
   "source": [
    "# handling outliers using iqr method\n",
    "q1=np.quantile(xtrain['bmi'],0.25)\n",
    "q3=np.quantile(xtrain['bmi'],0.75)\n",
    "iqr=q3-q1\n",
    "ll=q1-(1.5*iqr)\n",
    "ul=q3+(1.5*iqr)\n",
    "print(ll,ul)"
   ]
  },
  {
   "cell_type": "code",
   "execution_count": 47,
   "id": "664ecc20-4635-4f17-9a38-ffc714af5338",
   "metadata": {},
   "outputs": [
    {
     "data": {
      "text/html": [
       "<div>\n",
       "<style scoped>\n",
       "    .dataframe tbody tr th:only-of-type {\n",
       "        vertical-align: middle;\n",
       "    }\n",
       "\n",
       "    .dataframe tbody tr th {\n",
       "        vertical-align: top;\n",
       "    }\n",
       "\n",
       "    .dataframe thead th {\n",
       "        text-align: right;\n",
       "    }\n",
       "</style>\n",
       "<table border=\"1\" class=\"dataframe\">\n",
       "  <thead>\n",
       "    <tr style=\"text-align: right;\">\n",
       "      <th></th>\n",
       "      <th>age</th>\n",
       "      <th>sex</th>\n",
       "      <th>bmi</th>\n",
       "      <th>children</th>\n",
       "      <th>smoker</th>\n",
       "      <th>region</th>\n",
       "    </tr>\n",
       "  </thead>\n",
       "  <tbody>\n",
       "  </tbody>\n",
       "</table>\n",
       "</div>"
      ],
      "text/plain": [
       "Empty DataFrame\n",
       "Columns: [age, sex, bmi, children, smoker, region]\n",
       "Index: []"
      ]
     },
     "execution_count": 47,
     "metadata": {},
     "output_type": "execute_result"
    }
   ],
   "source": [
    "xtrain.loc[xtrain['bmi']<ll]"
   ]
  },
  {
   "cell_type": "code",
   "execution_count": 48,
   "id": "9c72188b-c5e7-4909-8f42-0eabf1a98ace",
   "metadata": {},
   "outputs": [
    {
     "data": {
      "text/html": [
       "<div>\n",
       "<style scoped>\n",
       "    .dataframe tbody tr th:only-of-type {\n",
       "        vertical-align: middle;\n",
       "    }\n",
       "\n",
       "    .dataframe tbody tr th {\n",
       "        vertical-align: top;\n",
       "    }\n",
       "\n",
       "    .dataframe thead th {\n",
       "        text-align: right;\n",
       "    }\n",
       "</style>\n",
       "<table border=\"1\" class=\"dataframe\">\n",
       "  <thead>\n",
       "    <tr style=\"text-align: right;\">\n",
       "      <th></th>\n",
       "      <th>age</th>\n",
       "      <th>sex</th>\n",
       "      <th>bmi</th>\n",
       "      <th>children</th>\n",
       "      <th>smoker</th>\n",
       "      <th>region</th>\n",
       "    </tr>\n",
       "  </thead>\n",
       "  <tbody>\n",
       "    <tr>\n",
       "      <th>847</th>\n",
       "      <td>23</td>\n",
       "      <td>male</td>\n",
       "      <td>50.38</td>\n",
       "      <td>1</td>\n",
       "      <td>no</td>\n",
       "      <td>southeast</td>\n",
       "    </tr>\n",
       "    <tr>\n",
       "      <th>1088</th>\n",
       "      <td>52</td>\n",
       "      <td>male</td>\n",
       "      <td>47.74</td>\n",
       "      <td>1</td>\n",
       "      <td>no</td>\n",
       "      <td>southeast</td>\n",
       "    </tr>\n",
       "    <tr>\n",
       "      <th>1317</th>\n",
       "      <td>18</td>\n",
       "      <td>male</td>\n",
       "      <td>53.13</td>\n",
       "      <td>0</td>\n",
       "      <td>no</td>\n",
       "      <td>southeast</td>\n",
       "    </tr>\n",
       "    <tr>\n",
       "      <th>116</th>\n",
       "      <td>58</td>\n",
       "      <td>male</td>\n",
       "      <td>49.06</td>\n",
       "      <td>0</td>\n",
       "      <td>no</td>\n",
       "      <td>southeast</td>\n",
       "    </tr>\n",
       "    <tr>\n",
       "      <th>401</th>\n",
       "      <td>47</td>\n",
       "      <td>male</td>\n",
       "      <td>47.52</td>\n",
       "      <td>1</td>\n",
       "      <td>no</td>\n",
       "      <td>southeast</td>\n",
       "    </tr>\n",
       "    <tr>\n",
       "      <th>860</th>\n",
       "      <td>37</td>\n",
       "      <td>female</td>\n",
       "      <td>47.60</td>\n",
       "      <td>2</td>\n",
       "      <td>yes</td>\n",
       "      <td>southwest</td>\n",
       "    </tr>\n",
       "  </tbody>\n",
       "</table>\n",
       "</div>"
      ],
      "text/plain": [
       "      age     sex    bmi  children smoker     region\n",
       "847    23    male  50.38         1     no  southeast\n",
       "1088   52    male  47.74         1     no  southeast\n",
       "1317   18    male  53.13         0     no  southeast\n",
       "116    58    male  49.06         0     no  southeast\n",
       "401    47    male  47.52         1     no  southeast\n",
       "860    37  female  47.60         2    yes  southwest"
      ]
     },
     "execution_count": 48,
     "metadata": {},
     "output_type": "execute_result"
    }
   ],
   "source": [
    "xtrain.loc[xtrain['bmi']>ul]"
   ]
  },
  {
   "cell_type": "code",
   "execution_count": 49,
   "id": "f2e64b39-a80c-465b-87c1-afd118fe5553",
   "metadata": {},
   "outputs": [
    {
     "data": {
      "text/plain": [
       "True"
      ]
     },
     "execution_count": 49,
     "metadata": {},
     "output_type": "execute_result"
    }
   ],
   "source": [
    "((len(xtrain.loc[xtrain['bmi']>ul])/len(xtrain))*100)<5"
   ]
  },
  {
   "cell_type": "code",
   "execution_count": 50,
   "id": "ef10a858-73c1-4f01-9ada-b2cbe21fb3c8",
   "metadata": {},
   "outputs": [],
   "source": [
    "median_xtrain = xtrain['bmi'].median()\n",
    "xtrain.loc[xtrain['bmi']>ul,'bmi'] = median_xtrain"
   ]
  },
  {
   "cell_type": "code",
   "execution_count": null,
   "id": "db1f13c0-c57c-486b-9a68-d1faa3caa6a7",
   "metadata": {},
   "outputs": [],
   "source": []
  },
  {
   "cell_type": "code",
   "execution_count": 51,
   "id": "9a3d1031-2402-420c-9fae-a36064cc6062",
   "metadata": {},
   "outputs": [],
   "source": [
    "# outliers in xtest"
   ]
  },
  {
   "cell_type": "code",
   "execution_count": 52,
   "id": "4c5f7a87-26fc-4369-9273-a39410f43389",
   "metadata": {
    "scrolled": true
   },
   "outputs": [
    {
     "data": {
      "image/png": "[encoded data removed]",
      "text/plain": [
       "<Figure size 800x600 with 1 Axes>"
      ]
     },
     "metadata": {},
     "output_type": "display_data"
    },
    {
     "data": {
      "image/png": "[encoded data removed]",
      "text/plain": [
       "<Figure size 800x600 with 1 Axes>"
      ]
     },
     "metadata": {},
     "output_type": "display_data"
    },
    {
     "data": {
      "image/png": "[encoded data removed]",
      "text/plain": [
       "<Figure size 800x600 with 1 Axes>"
      ]
     },
     "metadata": {},
     "output_type": "display_data"
    }
   ],
   "source": [
    "for col in numeric:\n",
    "    if (col != 'charges'):\n",
    "        plt.figure(figsize=(8,6))\n",
    "        sns.boxplot(xtest[col])\n",
    "        plt.title(f'{col}')\n",
    "        plt.tight_layout()\n",
    "        plt.show()"
   ]
  },
  {
   "cell_type": "code",
   "execution_count": 53,
   "id": "2fc677c6-df36-4ffc-87ca-63d7afc8a303",
   "metadata": {},
   "outputs": [
    {
     "name": "stdout",
     "output_type": "stream",
     "text": [
      "13.878124999999997 47.993125000000006\n"
     ]
    }
   ],
   "source": [
    "# handling outliers using iqr method\n",
    "q1=np.quantile(xtest['bmi'],0.25)\n",
    "q3=np.quantile(xtest['bmi'],0.75)\n",
    "iqr=q3-q1\n",
    "ll=q1-(1.5*iqr)\n",
    "ul=q3+(1.5*iqr)\n",
    "print(ll,ul)"
   ]
  },
  {
   "cell_type": "code",
   "execution_count": 54,
   "id": "e2a92bdc-6775-4c41-a9a2-17a1c8890460",
   "metadata": {},
   "outputs": [
    {
     "data": {
      "text/html": [
       "<div>\n",
       "<style scoped>\n",
       "    .dataframe tbody tr th:only-of-type {\n",
       "        vertical-align: middle;\n",
       "    }\n",
       "\n",
       "    .dataframe tbody tr th {\n",
       "        vertical-align: top;\n",
       "    }\n",
       "\n",
       "    .dataframe thead th {\n",
       "        text-align: right;\n",
       "    }\n",
       "</style>\n",
       "<table border=\"1\" class=\"dataframe\">\n",
       "  <thead>\n",
       "    <tr style=\"text-align: right;\">\n",
       "      <th></th>\n",
       "      <th>age</th>\n",
       "      <th>sex</th>\n",
       "      <th>bmi</th>\n",
       "      <th>children</th>\n",
       "      <th>smoker</th>\n",
       "      <th>region</th>\n",
       "    </tr>\n",
       "  </thead>\n",
       "  <tbody>\n",
       "  </tbody>\n",
       "</table>\n",
       "</div>"
      ],
      "text/plain": [
       "Empty DataFrame\n",
       "Columns: [age, sex, bmi, children, smoker, region]\n",
       "Index: []"
      ]
     },
     "execution_count": 54,
     "metadata": {},
     "output_type": "execute_result"
    }
   ],
   "source": [
    "xtest.loc[xtest['bmi']<ll]"
   ]
  },
  {
   "cell_type": "code",
   "execution_count": 55,
   "id": "af79b5cd-c056-4cb0-9e3e-6e078d4a89d4",
   "metadata": {},
   "outputs": [
    {
     "data": {
      "text/html": [
       "<div>\n",
       "<style scoped>\n",
       "    .dataframe tbody tr th:only-of-type {\n",
       "        vertical-align: middle;\n",
       "    }\n",
       "\n",
       "    .dataframe tbody tr th {\n",
       "        vertical-align: top;\n",
       "    }\n",
       "\n",
       "    .dataframe thead th {\n",
       "        text-align: right;\n",
       "    }\n",
       "</style>\n",
       "<table border=\"1\" class=\"dataframe\">\n",
       "  <thead>\n",
       "    <tr style=\"text-align: right;\">\n",
       "      <th></th>\n",
       "      <th>age</th>\n",
       "      <th>sex</th>\n",
       "      <th>bmi</th>\n",
       "      <th>children</th>\n",
       "      <th>smoker</th>\n",
       "      <th>region</th>\n",
       "    </tr>\n",
       "  </thead>\n",
       "  <tbody>\n",
       "    <tr>\n",
       "      <th>1047</th>\n",
       "      <td>22</td>\n",
       "      <td>male</td>\n",
       "      <td>52.58</td>\n",
       "      <td>1</td>\n",
       "      <td>yes</td>\n",
       "      <td>southeast</td>\n",
       "    </tr>\n",
       "    <tr>\n",
       "      <th>286</th>\n",
       "      <td>46</td>\n",
       "      <td>female</td>\n",
       "      <td>48.07</td>\n",
       "      <td>2</td>\n",
       "      <td>no</td>\n",
       "      <td>northeast</td>\n",
       "    </tr>\n",
       "  </tbody>\n",
       "</table>\n",
       "</div>"
      ],
      "text/plain": [
       "      age     sex    bmi  children smoker     region\n",
       "1047   22    male  52.58         1    yes  southeast\n",
       "286    46  female  48.07         2     no  northeast"
      ]
     },
     "execution_count": 55,
     "metadata": {},
     "output_type": "execute_result"
    }
   ],
   "source": [
    "xtest.loc[xtest['bmi']>ul]"
   ]
  },
  {
   "cell_type": "code",
   "execution_count": 56,
   "id": "0096ad96-ed4c-4fc5-96ef-462cf1b91084",
   "metadata": {},
   "outputs": [
    {
     "data": {
      "text/plain": [
       "True"
      ]
     },
     "execution_count": 56,
     "metadata": {},
     "output_type": "execute_result"
    }
   ],
   "source": [
    "((len(xtest.loc[xtest['bmi']>ul])/len(xtest))*100)<5"
   ]
  },
  {
   "cell_type": "code",
   "execution_count": 57,
   "id": "c575df12-a842-4d30-b086-285f4d270809",
   "metadata": {},
   "outputs": [],
   "source": [
    "xtest.loc[xtest['bmi']>ul,'bmi'] = xtest['bmi'].median()"
   ]
  },
  {
   "cell_type": "code",
   "execution_count": 58,
   "id": "3e32453e-5c55-4ce6-bfa9-5777e8c0f50c",
   "metadata": {},
   "outputs": [
    {
     "data": {
      "text/html": [
       "<div>\n",
       "<style scoped>\n",
       "    .dataframe tbody tr th:only-of-type {\n",
       "        vertical-align: middle;\n",
       "    }\n",
       "\n",
       "    .dataframe tbody tr th {\n",
       "        vertical-align: top;\n",
       "    }\n",
       "\n",
       "    .dataframe thead th {\n",
       "        text-align: right;\n",
       "    }\n",
       "</style>\n",
       "<table border=\"1\" class=\"dataframe\">\n",
       "  <thead>\n",
       "    <tr style=\"text-align: right;\">\n",
       "      <th></th>\n",
       "      <th>age</th>\n",
       "      <th>sex</th>\n",
       "      <th>bmi</th>\n",
       "      <th>children</th>\n",
       "      <th>smoker</th>\n",
       "      <th>region</th>\n",
       "    </tr>\n",
       "  </thead>\n",
       "  <tbody>\n",
       "  </tbody>\n",
       "</table>\n",
       "</div>"
      ],
      "text/plain": [
       "Empty DataFrame\n",
       "Columns: [age, sex, bmi, children, smoker, region]\n",
       "Index: []"
      ]
     },
     "execution_count": 58,
     "metadata": {},
     "output_type": "execute_result"
    }
   ],
   "source": [
    "xtest.loc[xtest['bmi']>ul]"
   ]
  },
  {
   "cell_type": "code",
   "execution_count": null,
   "id": "8968f54a-5770-4953-9a83-b247ac1a57de",
   "metadata": {},
   "outputs": [],
   "source": []
  },
  {
   "cell_type": "code",
   "execution_count": 59,
   "id": "8afd2ec0-b2ee-4990-8465-63cf35c9fe73",
   "metadata": {},
   "outputs": [],
   "source": [
    "# outlier handling in ytrain"
   ]
  },
  {
   "cell_type": "code",
   "execution_count": 60,
   "id": "e730a511-c8f4-4c7b-be21-c94b1012f1c1",
   "metadata": {},
   "outputs": [
    {
     "data": {
      "image/png": "[encoded data removed]",
      "text/plain": [
       "<Figure size 640x480 with 1 Axes>"
      ]
     },
     "metadata": {},
     "output_type": "display_data"
    }
   ],
   "source": [
    "sns.boxplot(ytrain)\n",
    "plt.show()"
   ]
  },
  {
   "cell_type": "code",
   "execution_count": 61,
   "id": "1481c4c1-1377-41ec-bbd1-06e4413bc711",
   "metadata": {},
   "outputs": [
    {
     "data": {
      "text/html": [
       "<div>\n",
       "<style scoped>\n",
       "    .dataframe tbody tr th:only-of-type {\n",
       "        vertical-align: middle;\n",
       "    }\n",
       "\n",
       "    .dataframe tbody tr th {\n",
       "        vertical-align: top;\n",
       "    }\n",
       "\n",
       "    .dataframe thead th {\n",
       "        text-align: right;\n",
       "    }\n",
       "</style>\n",
       "<table border=\"1\" class=\"dataframe\">\n",
       "  <thead>\n",
       "    <tr style=\"text-align: right;\">\n",
       "      <th></th>\n",
       "      <th>W</th>\n",
       "      <th>pval</th>\n",
       "      <th>normal</th>\n",
       "    </tr>\n",
       "  </thead>\n",
       "  <tbody>\n",
       "    <tr>\n",
       "      <th>charges</th>\n",
       "      <td>0.983108</td>\n",
       "      <td>8.294878e-10</td>\n",
       "      <td>False</td>\n",
       "    </tr>\n",
       "  </tbody>\n",
       "</table>\n",
       "</div>"
      ],
      "text/plain": [
       "                W          pval  normal\n",
       "charges  0.983108  8.294878e-10   False"
      ]
     },
     "execution_count": 61,
     "metadata": {},
     "output_type": "execute_result"
    }
   ],
   "source": [
    "pingouin.normality(ytrain)"
   ]
  },
  {
   "cell_type": "code",
   "execution_count": 62,
   "id": "8d653ce5-3b99-4452-9ead-9707be79a2d8",
   "metadata": {},
   "outputs": [
    {
     "data": {
      "text/plain": [
       "-0.12387621192771353"
      ]
     },
     "execution_count": 62,
     "metadata": {},
     "output_type": "execute_result"
    }
   ],
   "source": [
    "ytrain.skew()"
   ]
  },
  {
   "cell_type": "code",
   "execution_count": 63,
   "id": "24e973e3-2f54-4521-9ab6-3b3efd36f106",
   "metadata": {},
   "outputs": [
    {
     "data": {
      "image/png": "[encoded data removed]",
      "text/plain": [
       "<Figure size 640x480 with 1 Axes>"
      ]
     },
     "metadata": {},
     "output_type": "display_data"
    }
   ],
   "source": [
    "sns.histplot(ytrain,kde=True)\n",
    "plt.show()"
   ]
  },
  {
   "cell_type": "code",
   "execution_count": 64,
   "id": "cf560830-0428-4f64-bf2f-2173761fadec",
   "metadata": {},
   "outputs": [
    {
     "name": "stdout",
     "output_type": "stream",
     "text": [
      "6.652781448638656 11.569945465560473\n",
      "Series([], Name: charges, dtype: float64)\n",
      "Series([], Name: charges, dtype: float64)\n",
      "True\n"
     ]
    }
   ],
   "source": [
    "# handling outliers using iqr method\n",
    "q1=np.quantile(ytrain,0.25)\n",
    "q3=np.quantile(ytrain,0.75)\n",
    "iqr=q3-q1\n",
    "ll=q1-(1.5*iqr)\n",
    "ul=q3+(1.5*iqr)\n",
    "print(ll,ul)\n",
    "\n",
    "print(ytrain.loc[ytrain<ll])\n",
    "\n",
    "print(ytrain.loc[ytrain>ul])\n",
    "\n",
    "print(((len(ytrain.loc[ytrain>ul])/len(ytrain))*100)<5)"
   ]
  },
  {
   "cell_type": "raw",
   "id": "909f20a6-cc7d-4781-8a3a-7350e3b27804",
   "metadata": {},
   "source": [
    "median_ytrain = ytrain.median()\n",
    "ytrain.loc[ytrain>ul] = median_ytrain"
   ]
  },
  {
   "cell_type": "code",
   "execution_count": null,
   "id": "032962a2-61ef-415e-896d-af9820e9e2c2",
   "metadata": {},
   "outputs": [],
   "source": []
  },
  {
   "cell_type": "code",
   "execution_count": 65,
   "id": "d15ad15c-46d1-4397-bb18-0c814a8a5ec4",
   "metadata": {},
   "outputs": [],
   "source": [
    "# outlier handling in ytest"
   ]
  },
  {
   "cell_type": "code",
   "execution_count": 66,
   "id": "65703874-408f-4a60-86a6-51bb07ab7a62",
   "metadata": {},
   "outputs": [
    {
     "data": {
      "image/png": "[encoded data removed]",
      "text/plain": [
       "<Figure size 640x480 with 1 Axes>"
      ]
     },
     "metadata": {},
     "output_type": "display_data"
    }
   ],
   "source": [
    "sns.boxplot(ytest)\n",
    "plt.show()"
   ]
  },
  {
   "cell_type": "code",
   "execution_count": 67,
   "id": "63ae769c-bb1c-4b7e-992e-e11a668d858c",
   "metadata": {},
   "outputs": [
    {
     "data": {
      "text/plain": [
       "0.044884870330211504"
      ]
     },
     "execution_count": 67,
     "metadata": {},
     "output_type": "execute_result"
    }
   ],
   "source": [
    "ytest.skew()"
   ]
  },
  {
   "cell_type": "code",
   "execution_count": 68,
   "id": "d4533911-784d-4a54-8209-15677ce6dd6c",
   "metadata": {},
   "outputs": [
    {
     "data": {
      "image/png": "[encoded data removed]",
      "text/plain": [
       "<Figure size 640x480 with 1 Axes>"
      ]
     },
     "metadata": {},
     "output_type": "display_data"
    }
   ],
   "source": [
    "sns.histplot(ytest,kde=True)\n",
    "plt.show()"
   ]
  },
  {
   "cell_type": "code",
   "execution_count": 69,
   "id": "4abcacfb-886e-496d-a919-bbefec587c6c",
   "metadata": {},
   "outputs": [
    {
     "name": "stdout",
     "output_type": "stream",
     "text": [
      "6.355284425919414 11.711800373816743\n"
     ]
    }
   ],
   "source": [
    "# handling outliers using iqr method\n",
    "q1=np.quantile(ytest,0.25)\n",
    "q3=np.quantile(ytest,0.75)\n",
    "iqr=q3-q1\n",
    "ll=q1-(1.5*iqr)\n",
    "ul=q3+(1.5*iqr)\n",
    "print(ll,ul)"
   ]
  },
  {
   "cell_type": "code",
   "execution_count": 70,
   "id": "4931e6a7-66a2-4ae0-b748-b0d14ad81250",
   "metadata": {},
   "outputs": [
    {
     "name": "stdout",
     "output_type": "stream",
     "text": [
      "Series([], Name: charges, dtype: float64)\n",
      "\n",
      "Series([], Name: charges, dtype: float64)\n"
     ]
    }
   ],
   "source": [
    "print(ytest.loc[ytest<ll])\n",
    "print()\n",
    "print(ytest.loc[ytest>ul])"
   ]
  },
  {
   "cell_type": "raw",
   "id": "fe7ade59-95b5-411c-a39a-4902e3f25981",
   "metadata": {},
   "source": [
    "ytest.loc[ytest>ul] = ytest.median()"
   ]
  },
  {
   "cell_type": "code",
   "execution_count": 71,
   "id": "78827152-b13b-4adf-9bd7-09acd6b19f32",
   "metadata": {},
   "outputs": [
    {
     "data": {
      "text/plain": [
       "Series([], Name: charges, dtype: float64)"
      ]
     },
     "execution_count": 71,
     "metadata": {},
     "output_type": "execute_result"
    }
   ],
   "source": [
    "ytest.loc[ytest>ul]"
   ]
  },
  {
   "cell_type": "code",
   "execution_count": null,
   "id": "788397df-cfbf-4616-8849-66f6bdd06d02",
   "metadata": {},
   "outputs": [],
   "source": []
  },
  {
   "cell_type": "code",
   "execution_count": null,
   "id": "5e07cf4c-a218-47ec-b719-818c0b7bf647",
   "metadata": {},
   "outputs": [],
   "source": []
  },
  {
   "cell_type": "code",
   "execution_count": 72,
   "id": "d623ed26-2aee-4468-b09b-684a065f6ee3",
   "metadata": {},
   "outputs": [],
   "source": [
    "# multicollinearity based feature selection"
   ]
  },
  {
   "cell_type": "code",
   "execution_count": 73,
   "id": "c7fc2152-a348-48a3-b7fe-24441d4419bc",
   "metadata": {},
   "outputs": [
    {
     "name": "stdout",
     "output_type": "stream",
     "text": [
      "[]\n"
     ]
    }
   ],
   "source": [
    "corr_matrix = xtrain.drop(columns=['sex','region','smoker']).corr().abs()\n",
    "mask = np.triu(np.ones(corr_matrix.shape),k=1).astype(bool)\n",
    "corr_matrix = corr_matrix.where(mask)\n",
    "multicollinearity_drop = [ col for col in corr_matrix.columns if any(corr_matrix[col]>0.9)]\n",
    "print(multicollinearity_drop)"
   ]
  },
  {
   "cell_type": "raw",
   "id": "009f0237-792e-47b3-8ba6-319dddbea64a",
   "metadata": {},
   "source": [
    "There are no columns to drop"
   ]
  },
  {
   "cell_type": "code",
   "execution_count": null,
   "id": "8ea7b6fe-540e-4be0-9ed5-33e9a34dac6d",
   "metadata": {},
   "outputs": [],
   "source": []
  },
  {
   "cell_type": "code",
   "execution_count": 74,
   "id": "c47e98df-00f4-4702-b17a-8d018669862f",
   "metadata": {},
   "outputs": [],
   "source": [
    "# ENCODING"
   ]
  },
  {
   "cell_type": "code",
   "execution_count": 75,
   "id": "0a83d56a-a245-4304-89db-8183cd9d3c46",
   "metadata": {},
   "outputs": [
    {
     "name": "stdout",
     "output_type": "stream",
     "text": [
      "['sex', 'smoker', 'region']\n",
      "sex\n",
      "male      675\n",
      "female    662\n",
      "Name: count, dtype: int64\n",
      "smoker\n",
      "no     1063\n",
      "yes     274\n",
      "Name: count, dtype: int64\n",
      "region\n",
      "southeast    364\n",
      "southwest    325\n",
      "northwest    324\n",
      "northeast    324\n",
      "Name: count, dtype: int64\n"
     ]
    }
   ],
   "source": [
    "print(categoric)\n",
    "print(df_m.sex.value_counts())\n",
    "print(df_m.smoker.value_counts())\n",
    "print(df_m.region.value_counts())"
   ]
  },
  {
   "cell_type": "code",
   "execution_count": 76,
   "id": "0dfc13ba-e3e7-44dd-af34-d98fcebbe5d7",
   "metadata": {},
   "outputs": [],
   "source": [
    "from sklearn.preprocessing import LabelEncoder\n",
    "for col in ['smoker','sex']:\n",
    "    le = LabelEncoder()\n",
    "    xtrain[col] = le.fit_transform(xtrain[col])\n",
    "    xtest[col] = le.transform(xtest[col])"
   ]
  },
  {
   "cell_type": "code",
   "execution_count": 77,
   "id": "36c8a2e9-9bd4-492c-aeab-cae60dd25aca",
   "metadata": {},
   "outputs": [],
   "source": [
    "# ohe to region cols\n",
    "enc_xtrain = pd.get_dummies(xtrain['region'],prefix='region')\n",
    "enc_xtest = pd.get_dummies(xtest['region'],prefix='region')\n",
    "#index allignment\n",
    "enc_xtest = enc_xtest.reindex(columns=enc_xtrain.columns,fill_value=0)\n",
    "# drop original cols\n",
    "xtrain = xtrain.drop(columns='region')\n",
    "xtest = xtest.drop(columns='region')\n",
    "# concatenate\n",
    "xtrain = pd.concat([xtrain.reset_index(drop=True), enc_xtrain.reset_index(drop=True)],axis=1)\n",
    "xtest = pd.concat([xtest.reset_index(drop=True), enc_xtest.reset_index(drop=True)],axis=1)"
   ]
  },
  {
   "cell_type": "code",
   "execution_count": null,
   "id": "f41a41a3-72c2-4a82-a7ab-d5e27b474a84",
   "metadata": {},
   "outputs": [],
   "source": []
  },
  {
   "cell_type": "code",
   "execution_count": 78,
   "id": "4ef4603c-489e-4220-8d9f-6a83125d9d16",
   "metadata": {},
   "outputs": [],
   "source": [
    "# SCALING"
   ]
  },
  {
   "cell_type": "code",
   "execution_count": 79,
   "id": "6c746b5c-4c3d-4b2a-92f7-0d57dac178d2",
   "metadata": {},
   "outputs": [
    {
     "name": "stdout",
     "output_type": "stream",
     "text": [
      "col range of age: 46\n",
      "col range of sex: 1\n",
      "col range of bmi: 30.740000000000002\n",
      "col range of children: 5\n",
      "col range of smoker: 1\n"
     ]
    }
   ],
   "source": [
    "for col in xtrain.select_dtypes(include=np.number).columns:\n",
    "    print(f'col range of {col}: {xtrain[col].max()-xtrain[col].min()}')"
   ]
  },
  {
   "cell_type": "code",
   "execution_count": 80,
   "id": "b954d89e-3146-4bf0-9525-31a2ada48e0f",
   "metadata": {},
   "outputs": [],
   "source": [
    "# dataset for ms xtrain_ms \n",
    "# dataset for sc xtrain_sc\n",
    "# dataset for xtrain_ms_comp\n",
    "# dataset for xtrain_sc_comp\n",
    "#xtrain_ms = xtrain.copy()\n",
    "xtrain_sc = xtrain.copy()\n",
    "xtest_sc = xtest.copy()\n",
    "#xtrain_ms_comp = xtrain.copy()\n",
    "#xtrain_sc_comp = xtrain.copy()"
   ]
  },
  {
   "cell_type": "raw",
   "id": "cd2dc395-5a24-4333-8f0c-236b3dc5aabd",
   "metadata": {},
   "source": [
    "# min max scaler on entire dataset\n",
    "from sklearn.preprocessing import StandardScaler\n",
    "scaler = StandardScaler()\n",
    "xtrain = scaler.fit_transform(xtrain_sc)\n",
    "xtest = scaler.transform(xtest_sc)"
   ]
  },
  {
   "cell_type": "code",
   "execution_count": 81,
   "id": "9f81f7b1-f6db-4299-a4c1-bd771f1f8752",
   "metadata": {},
   "outputs": [],
   "source": [
    "for col in ['age','bmi']:\n",
    "    ms = MinMaxScaler()\n",
    "    xtrain_sc[[col]] = ms.fit_transform(xtrain_sc[[col]])\n",
    "    xtest_sc[[col]] = ms.transform(xtest_sc[[col]])"
   ]
  },
  {
   "cell_type": "raw",
   "id": "b413c8eb-754a-42a8-9e0a-781571b498e0",
   "metadata": {},
   "source": [
    "from sklearn.preprocessing import StandardScaler\n",
    "scaler = StandardScaler()\n",
    "xtrain = scaler.fit_transform(xtrain_sc)\n",
    "xtest = scaler.transform(xtest_sc)"
   ]
  },
  {
   "cell_type": "code",
   "execution_count": null,
   "id": "ceabe094-d9c1-494b-ad63-0a08bbed23ec",
   "metadata": {},
   "outputs": [],
   "source": []
  },
  {
   "cell_type": "code",
   "execution_count": null,
   "id": "d83c7ced-ef39-42fc-82b9-e030da233702",
   "metadata": {},
   "outputs": [],
   "source": []
  },
  {
   "cell_type": "markdown",
   "id": "6055aaf3-07b7-46ce-88e4-7d29f9b516b1",
   "metadata": {},
   "source": [
    "## MODEL CREATION"
   ]
  },
  {
   "cell_type": "code",
   "execution_count": null,
   "id": "693b9e2c-3808-47e7-b33d-86778fcf1705",
   "metadata": {},
   "outputs": [],
   "source": []
  },
  {
   "cell_type": "code",
   "execution_count": 83,
   "id": "38152abf-e089-42c6-b4fa-efad09b2cf4a",
   "metadata": {},
   "outputs": [],
   "source": [
    "# linear regression\n",
    "lin_reg = LinearRegression()\n",
    "lin_reg.fit(xtrain_sc, ytrain)\n",
    "lin_reg_ypred = lin_reg.predict(xtest_sc)\n",
    "#evaluate\n",
    "lin_reg_mse = mean_squared_error(ytest,lin_reg_ypred)\n",
    "lin_reg_rmse = np.sqrt(mean_squared_error(ytest,lin_reg_ypred))\n",
    "lin_reg_mae = mean_absolute_error(ytest,lin_reg_ypred)\n",
    "lin_reg_r2 = r2_score(ytest,lin_reg_ypred)"
   ]
  },
  {
   "cell_type": "code",
   "execution_count": 84,
   "id": "a9470df8-e460-4613-af71-a3afff7c2ef8",
   "metadata": {},
   "outputs": [
    {
     "name": "stdout",
     "output_type": "stream",
     "text": [
      "Linear regression\n",
      "Original scale MSE: 61446954.01997477\n",
      "Original scale RMSE: 7838.810752912381\n",
      "Original scale MAE: 3903.858665234291\n",
      "Original scale R2: 0.6042031813752322\n"
     ]
    }
   ],
   "source": [
    "# Step 3: Inverse transform ytest and ypred\n",
    "ytest_true = np.expm1(ytest)               # actual charges\n",
    "ypred_true = np.expm1(lin_reg_ypred)       # predicted charges\n",
    "\n",
    "# Step 4: Evaluate in original scale\n",
    "mse_orig = mean_squared_error(ytest_true,ypred_true)\n",
    "rmse_orig = np.sqrt(mean_squared_error(ytest_true, ypred_true))\n",
    "mae_orig = mean_absolute_error(ytest_true, ypred_true)\n",
    "r2_orig = r2_score(ytest_true, ypred_true)\n",
    "print('Linear regression')\n",
    "print(\"Original scale MSE:\", mse_orig)\n",
    "print(\"Original scale RMSE:\", rmse_orig)\n",
    "print(\"Original scale MAE:\", mae_orig)\n",
    "print(\"Original scale R2:\", r2_orig)"
   ]
  },
  {
   "cell_type": "code",
   "execution_count": null,
   "id": "ff7ba3c6-fd4d-433f-b237-0c62dfed3093",
   "metadata": {},
   "outputs": [],
   "source": []
  },
  {
   "cell_type": "code",
   "execution_count": null,
   "id": "d66f6e63-b006-47e9-b96b-0ff2ca68e652",
   "metadata": {},
   "outputs": [],
   "source": []
  },
  {
   "cell_type": "code",
   "execution_count": 85,
   "id": "506185cf-0215-4d33-9f5b-e2e5a6255ab7",
   "metadata": {},
   "outputs": [
    {
     "data": {
      "text/plain": [
       "\"print('mse',svm_reg_mse)\\nprint('rmse',svm_reg_rmse)\\nprint('mae',svm_reg_mae)\\nprint('r2',svm_reg_r2)\""
      ]
     },
     "execution_count": 85,
     "metadata": {},
     "output_type": "execute_result"
    }
   ],
   "source": [
    "# SVM REGRESSOR\n",
    "svm_reg = SVR()\n",
    "svm_reg.fit(xtrain_sc, ytrain)\n",
    "svm_reg_ypred = svm_reg.predict(xtest_sc)\n",
    "#evaluate\n",
    "svm_reg_mse = mean_squared_error(ytest,svm_reg_ypred)\n",
    "svm_reg_rmse = np.sqrt(mean_squared_error(ytest,svm_reg_ypred))\n",
    "svm_reg_mae = mean_absolute_error(ytest,svm_reg_ypred)\n",
    "svm_reg_r2 = r2_score(ytest,svm_reg_ypred)\n",
    "'''print('mse',svm_reg_mse)\n",
    "print('rmse',svm_reg_rmse)\n",
    "print('mae',svm_reg_mae)\n",
    "print('r2',svm_reg_r2)'''"
   ]
  },
  {
   "cell_type": "code",
   "execution_count": 86,
   "id": "abc1b0df-a0c8-40e6-b76d-476b5fdff0e0",
   "metadata": {},
   "outputs": [
    {
     "name": "stdout",
     "output_type": "stream",
     "text": [
      "Support regression\n",
      "Original scale MSE: 24179134.497399107\n",
      "Original scale RMSE: 4917.228334885325\n",
      "Original scale MAE: 2294.3230220150413\n",
      "Original scale R2: 0.8442555100768708\n"
     ]
    }
   ],
   "source": [
    "ytest_true = np.expm1(ytest)\n",
    "svm_reg_ypred_true = np.expm1(svm_reg_ypred)\n",
    "\n",
    "mse_orig = mean_squared_error(ytest_true,svm_reg_ypred_true)\n",
    "rmse_orig = np.sqrt(mean_squared_error(ytest_true, svm_reg_ypred_true))\n",
    "mae_orig = mean_absolute_error(ytest_true, svm_reg_ypred_true)\n",
    "r2_orig = r2_score(ytest_true, svm_reg_ypred_true)\n",
    "print('Support regression')\n",
    "print(\"Original scale MSE:\", mse_orig)\n",
    "print(\"Original scale RMSE:\", rmse_orig)\n",
    "print(\"Original scale MAE:\", mae_orig)\n",
    "print(\"Original scale R2:\", r2_orig)"
   ]
  },
  {
   "cell_type": "code",
   "execution_count": null,
   "id": "39aa1e29-9e76-4d57-af1b-3eb19e043ecc",
   "metadata": {},
   "outputs": [],
   "source": []
  },
  {
   "cell_type": "code",
   "execution_count": null,
   "id": "bb7e3892-9b29-4b87-bb4c-d417931a910f",
   "metadata": {},
   "outputs": [],
   "source": []
  },
  {
   "cell_type": "code",
   "execution_count": 87,
   "id": "08aaed08-38ed-4272-b509-3d9062c45f5a",
   "metadata": {},
   "outputs": [],
   "source": [
    "# KNN REGRESSOR"
   ]
  },
  {
   "cell_type": "code",
   "execution_count": 88,
   "id": "ea0e2db3-3bcf-47df-8655-2c89668a690c",
   "metadata": {},
   "outputs": [
    {
     "data": {
      "image/png": "[encoded data removed]",
      "text/plain": [
       "<Figure size 1000x600 with 1 Axes>"
      ]
     },
     "metadata": {},
     "output_type": "display_data"
    }
   ],
   "source": [
    "# finding optimal value of neighbors\n",
    "from sklearn.metrics import mean_squared_error\n",
    "\n",
    "rmse_list = []\n",
    "for i in range(1, 11):\n",
    "    knn_n = KNeighborsRegressor(n_neighbors=i)\n",
    "    knn_n.fit(xtrain_sc, ytrain)\n",
    "    pred_i = knn_n.predict(xtest_sc)\n",
    "    rmse = np.sqrt(mean_squared_error(ytest, pred_i))\n",
    "    rmse_list.append(rmse)\n",
    "\n",
    "plt.figure(figsize=(10, 6))\n",
    "plt.plot(range(1, 11), rmse_list, color='blue', linestyle='dashed',\n",
    "         marker='o', markerfacecolor='red', markersize=10)\n",
    "plt.title('RMSE vs. K Value')\n",
    "plt.xlabel('K')\n",
    "plt.ylabel('RMSE')\n",
    "plt.show()\n"
   ]
  },
  {
   "cell_type": "code",
   "execution_count": 89,
   "id": "95764a75-73e8-42c1-bb6c-2805eb590714",
   "metadata": {},
   "outputs": [],
   "source": [
    "\n",
    "knn_reg = KNeighborsRegressor(n_neighbors=5)\n",
    "knn_reg.fit(xtrain_sc,ytrain)\n",
    "knn_reg_ypred = knn_reg.predict(xtest_sc)\n",
    "#evaluate\n",
    "knn_reg_mse = mean_squared_error(ytest, knn_reg_ypred)\n",
    "knn_reg_rmse = np.sqrt(knn_reg_mse)\n",
    "knn_reg_mae = mean_absolute_error(ytest, knn_reg_ypred)\n",
    "knn_reg_r2 = r2_score(ytest, knn_reg_ypred)"
   ]
  },
  {
   "cell_type": "code",
   "execution_count": 90,
   "id": "9b028e9a-25df-45a1-827d-3cf4b2b3cb38",
   "metadata": {},
   "outputs": [
    {
     "name": "stdout",
     "output_type": "stream",
     "text": [
      "KNN regression\n",
      "Original scale MSE: 43307961.6235794\n",
      "Original scale RMSE: 6580.878484182746\n",
      "Original scale MAE: 3762.335171393894\n",
      "Original scale R2: 0.7210414461526583\n"
     ]
    }
   ],
   "source": [
    "# Step 3: Inverse transform ytest and ypred\n",
    "ytest_true = np.expm1(ytest)               \n",
    "ypred_true = np.expm1(knn_reg_ypred)       \n",
    "\n",
    "# Step 4: Evaluate in original scale\n",
    "mse_orig = mean_squared_error(ytest_true,ypred_true)\n",
    "rmse_orig = np.sqrt(mean_squared_error(ytest_true, ypred_true))\n",
    "mae_orig = mean_absolute_error(ytest_true, ypred_true)\n",
    "r2_orig = r2_score(ytest_true, ypred_true)\n",
    "print('KNN regression')\n",
    "print(\"Original scale MSE:\", mse_orig)\n",
    "print(\"Original scale RMSE:\", rmse_orig)\n",
    "print(\"Original scale MAE:\", mae_orig)\n",
    "print(\"Original scale R2:\", r2_orig)"
   ]
  },
  {
   "cell_type": "code",
   "execution_count": null,
   "id": "cacbc320-fc8a-48ad-bdfb-5adc481cd9ee",
   "metadata": {},
   "outputs": [],
   "source": []
  },
  {
   "cell_type": "code",
   "execution_count": null,
   "id": "9a2de948-5ebb-4042-ab07-b349468f227f",
   "metadata": {},
   "outputs": [],
   "source": []
  },
  {
   "cell_type": "code",
   "execution_count": 91,
   "id": "b2c375ea-8c71-4cef-9daf-2ec5801585bd",
   "metadata": {},
   "outputs": [],
   "source": [
    "# Decision Tree Regressor"
   ]
  },
  {
   "cell_type": "code",
   "execution_count": 92,
   "id": "947fb925-5989-4c33-8a45-a786a29efca2",
   "metadata": {},
   "outputs": [],
   "source": [
    "dt_reg = DecisionTreeRegressor()\n",
    "dt_reg.fit(xtrain_sc,ytrain)\n",
    "dt_reg_ypred = dt_reg.predict(xtest_sc)\n",
    "#evaluate\n",
    "dt_reg_mse = mean_squared_error(dt_reg_ypred,ytest)\n",
    "dt_reg_rmse = np.sqrt(mean_squared_error(dt_reg_ypred,ytest))\n",
    "dt_reg_mae = mean_absolute_error(dt_reg_ypred, ytest)\n",
    "dt_reg_r2 = r2_score(dt_reg_ypred, ytest)"
   ]
  },
  {
   "cell_type": "code",
   "execution_count": 93,
   "id": "7f6673f5-21f3-4e7b-a935-71602d752aa1",
   "metadata": {},
   "outputs": [
    {
     "name": "stdout",
     "output_type": "stream",
     "text": [
      "Decision Tree regression\n",
      "Original scale MSE: 37694479.90286067\n",
      "Original scale RMSE: 6139.583039821245\n",
      "Original scale MAE: 2892.201319324627\n",
      "Original scale R2: 0.7571994338333253\n"
     ]
    }
   ],
   "source": [
    "# Step 3: Inverse transform ytest and ypred\n",
    "ytest_true = np.expm1(ytest)               \n",
    "ypred_true = np.expm1(dt_reg_ypred)       \n",
    "\n",
    "# Step 4: Evaluate in original scale\n",
    "mse_orig = mean_squared_error(ytest_true,ypred_true)\n",
    "rmse_orig = np.sqrt(mean_squared_error(ytest_true, ypred_true))\n",
    "mae_orig = mean_absolute_error(ytest_true, ypred_true)\n",
    "r2_orig = r2_score(ytest_true, ypred_true)\n",
    "print('Decision Tree regression')\n",
    "print(\"Original scale MSE:\", mse_orig)\n",
    "print(\"Original scale RMSE:\", rmse_orig)\n",
    "print(\"Original scale MAE:\", mae_orig)\n",
    "print(\"Original scale R2:\", r2_orig)"
   ]
  },
  {
   "cell_type": "code",
   "execution_count": null,
   "id": "3fd4bcc7-c3e0-446f-814a-4b56c02485c3",
   "metadata": {},
   "outputs": [],
   "source": []
  },
  {
   "cell_type": "code",
   "execution_count": 94,
   "id": "2bd8d4eb-0598-4fcf-8bc7-5326470847ea",
   "metadata": {},
   "outputs": [],
   "source": [
    "# RandomForest Regressor"
   ]
  },
  {
   "cell_type": "code",
   "execution_count": 95,
   "id": "e0702652-d4a3-4d3b-bc42-a42c3e656194",
   "metadata": {},
   "outputs": [],
   "source": [
    "rf_reg = RandomForestRegressor()\n",
    "rf_reg.fit(xtrain_sc,ytrain)\n",
    "rf_reg_ypred = rf_reg.predict(xtest_sc)\n",
    "#evaluate\n",
    "rf_reg_mse = mean_squared_error(ytest,rf_reg_ypred)\n",
    "rf_reg_rmse = np.sqrt(mean_squared_error(ytest,rf_reg_ypred))\n",
    "rf_reg_mae = mean_absolute_error(ytest,rf_reg_ypred)\n",
    "rf_reg_r2 = r2_score(ytest,rf_reg_ypred)"
   ]
  },
  {
   "cell_type": "code",
   "execution_count": 96,
   "id": "064403bb-9577-47b7-8e04-50762f57f8c3",
   "metadata": {},
   "outputs": [
    {
     "name": "stdout",
     "output_type": "stream",
     "text": [
      "Random Forest Regressor\n",
      "Original scale MSE: 20231880.687891506\n",
      "Original scale RMSE: 4497.986292541531\n",
      "Original scale MAE: 2153.103306476443\n",
      "Original scale R2: 0.8696808631317958\n"
     ]
    }
   ],
   "source": [
    "# Step 3: Inverse transform ytest and ypred\n",
    "ytest_true = np.expm1(ytest)               \n",
    "ypred_true = np.expm1(rf_reg_ypred)       \n",
    "\n",
    "# Step 4: Evaluate in original scale\n",
    "mse_orig = mean_squared_error(ytest_true,ypred_true)\n",
    "rmse_orig = np.sqrt(mean_squared_error(ytest_true, ypred_true))\n",
    "mae_orig = mean_absolute_error(ytest_true, ypred_true)\n",
    "r2_orig = r2_score(ytest_true, ypred_true)\n",
    "print('Random Forest Regressor')\n",
    "print(\"Original scale MSE:\", mse_orig)\n",
    "print(\"Original scale RMSE:\", rmse_orig)\n",
    "print(\"Original scale MAE:\", mae_orig)\n",
    "print(\"Original scale R2:\", r2_orig)"
   ]
  },
  {
   "cell_type": "code",
   "execution_count": null,
   "id": "90020a58-4762-4d58-8f9e-0ec4e2c8a81c",
   "metadata": {},
   "outputs": [],
   "source": []
  },
  {
   "cell_type": "code",
   "execution_count": null,
   "id": "9f4ef7ce-50ce-4352-9cbf-cf1abc7bc771",
   "metadata": {},
   "outputs": [],
   "source": []
  },
  {
   "cell_type": "code",
   "execution_count": 97,
   "id": "8744f716-1d7f-4036-a7e7-6a616e31d0fc",
   "metadata": {},
   "outputs": [],
   "source": [
    "# Gradient Boosting Regressor"
   ]
  },
  {
   "cell_type": "code",
   "execution_count": 98,
   "id": "0210d0d9-a32f-4c44-9a86-7a36464d7a6b",
   "metadata": {},
   "outputs": [],
   "source": [
    "gb_reg = GradientBoostingRegressor()\n",
    "gb_reg.fit(xtrain_sc,ytrain)\n",
    "gb_reg_ypred = gb_reg.predict(xtest_sc)\n",
    "#evaluate\n",
    "gb_reg_mse = mean_squared_error(ytest,gb_reg_ypred)\n",
    "gb_reg_rmse = np.sqrt(mean_squared_error(ytest,gb_reg_ypred))\n",
    "gb_reg_mae = mean_absolute_error(ytest,gb_reg_ypred)\n",
    "gb_reg_r2 = r2_score(ytest,gb_reg_ypred)"
   ]
  },
  {
   "cell_type": "code",
   "execution_count": 99,
   "id": "0aeebc8d-1275-43ee-917b-163e5c32d5f4",
   "metadata": {},
   "outputs": [
    {
     "name": "stdout",
     "output_type": "stream",
     "text": [
      "Gradient Boosting Regressor\n",
      "Original scale MSE: 19897845.136225566\n",
      "Original scale RMSE: 4460.700072435443\n",
      "Original scale MAE: 2026.078920980966\n",
      "Original scale R2: 0.8718324784683994\n"
     ]
    }
   ],
   "source": [
    "# Step 3: Inverse transform ytest and ypred\n",
    "ytest_true = np.expm1(ytest)               \n",
    "ypred_true = np.expm1(gb_reg_ypred)       \n",
    "\n",
    "# Step 4: Evaluate in original scale\n",
    "mse_orig = mean_squared_error(ytest_true,ypred_true)\n",
    "rmse_orig = np.sqrt(mean_squared_error(ytest_true, ypred_true))\n",
    "mae_orig = mean_absolute_error(ytest_true, ypred_true)\n",
    "r2_orig = r2_score(ytest_true, ypred_true)\n",
    "print('Gradient Boosting Regressor')\n",
    "print(\"Original scale MSE:\", mse_orig)\n",
    "print(\"Original scale RMSE:\", rmse_orig)\n",
    "print(\"Original scale MAE:\", mae_orig)\n",
    "print(\"Original scale R2:\", r2_orig)"
   ]
  },
  {
   "cell_type": "code",
   "execution_count": null,
   "id": "9cc5a8c4-4c5c-4b97-83bb-fb8e2f42cbdb",
   "metadata": {},
   "outputs": [],
   "source": []
  },
  {
   "cell_type": "code",
   "execution_count": null,
   "id": "51215b10-42d9-4ce3-9495-6966835ac035",
   "metadata": {},
   "outputs": [],
   "source": []
  },
  {
   "cell_type": "code",
   "execution_count": 100,
   "id": "1d3eb344-df4c-425c-90ea-d19ad1c1216e",
   "metadata": {},
   "outputs": [],
   "source": [
    "# Extreme Gradient Boosting Regressor"
   ]
  },
  {
   "cell_type": "code",
   "execution_count": 101,
   "id": "a3608428-5951-4319-a4e6-d336033ea2f8",
   "metadata": {},
   "outputs": [],
   "source": [
    "xgb_reg = XGBRegressor()\n",
    "xgb_reg.fit(xtrain_sc,ytrain)\n",
    "xgb_reg_ypred = xgb_reg.predict(xtest_sc)\n",
    "#evaluate\n",
    "xgb_reg_mse = mean_squared_error(ytest,xgb_reg_ypred)\n",
    "xgb_reg_rmse = np.sqrt(mean_squared_error(ytest,xgb_reg_ypred))\n",
    "xgb_reg_mae = mean_absolute_error(ytest,xgb_reg_ypred)\n",
    "xgb_reg_r2 = r2_score(ytest,xgb_reg_ypred)"
   ]
  },
  {
   "cell_type": "code",
   "execution_count": 102,
   "id": "65426815-89aa-44bc-b07d-6db68275e971",
   "metadata": {},
   "outputs": [
    {
     "name": "stdout",
     "output_type": "stream",
     "text": [
      "Extreme Gradient Boosting Regressor\n",
      "Original scale MSE: 28799335.766128816\n",
      "Original scale RMSE: 5366.501259305621\n",
      "Original scale MAE: 2684.297808364827\n",
      "Original scale R2: 0.81449551639232\n"
     ]
    }
   ],
   "source": [
    "# Step 3: Inverse transform ytest and ypred\n",
    "ytest_true = np.expm1(ytest)               \n",
    "ypred_true = np.expm1(xgb_reg_ypred)       \n",
    "\n",
    "# Step 4: Evaluate in original scale\n",
    "mse_orig = mean_squared_error(ytest_true,ypred_true)\n",
    "rmse_orig = np.sqrt(mean_squared_error(ytest_true, ypred_true))\n",
    "mae_orig = mean_absolute_error(ytest_true, ypred_true)\n",
    "r2_orig = r2_score(ytest_true, ypred_true)\n",
    "print('Extreme Gradient Boosting Regressor')\n",
    "print(\"Original scale MSE:\", mse_orig)\n",
    "print(\"Original scale RMSE:\", rmse_orig)\n",
    "print(\"Original scale MAE:\", mae_orig)\n",
    "print(\"Original scale R2:\", r2_orig)"
   ]
  },
  {
   "cell_type": "code",
   "execution_count": null,
   "id": "bd9fc155-55e8-4cc5-8370-300e3ffb79c6",
   "metadata": {},
   "outputs": [],
   "source": []
  },
  {
   "cell_type": "raw",
   "id": "d2364366-cc1d-4ee8-8525-920ab0f4d428",
   "metadata": {},
   "source": [
    "winner:- gradient boosting regressor"
   ]
  },
  {
   "cell_type": "markdown",
   "id": "a650d411-9ace-4b70-b0a3-b01437240828",
   "metadata": {},
   "source": [
    "# FULLY AUTOMATED PIPELINE"
   ]
  },
  {
   "cell_type": "code",
   "execution_count": null,
   "id": "ef8ae4ab-1b24-489c-9f70-c036a23bcd39",
   "metadata": {},
   "outputs": [],
   "source": []
  },
  {
   "cell_type": "code",
   "execution_count": 104,
   "id": "c243c971-6378-4089-aa43-5dd177863ccd",
   "metadata": {},
   "outputs": [],
   "source": [
    "from sklearn.base import BaseEstimator, TransformerMixin\n",
    "from sklearn.pipeline import Pipeline\n",
    "from sklearn.compose import ColumnTransformer"
   ]
  },
  {
   "cell_type": "code",
   "execution_count": 105,
   "id": "6e3bcbbf-28c8-4c49-a85d-0ff2e67859ba",
   "metadata": {},
   "outputs": [],
   "source": [
    "from sklearn.model_selection import GridSearchCV"
   ]
  },
  {
   "cell_type": "code",
   "execution_count": null,
   "id": "8dabd5bf-72bb-4500-87a1-bc91d07700d5",
   "metadata": {},
   "outputs": [],
   "source": []
  },
  {
   "cell_type": "markdown",
   "id": "6657156c-96c3-4d5b-91e5-7061e2d1b2b7",
   "metadata": {},
   "source": [
    "## BASIC CHECK"
   ]
  },
  {
   "cell_type": "code",
   "execution_count": 107,
   "id": "71f49963-ac5d-4b5d-932e-1247b536bfd5",
   "metadata": {},
   "outputs": [
    {
     "data": {
      "text/html": [
       "<div>\n",
       "<style scoped>\n",
       "    .dataframe tbody tr th:only-of-type {\n",
       "        vertical-align: middle;\n",
       "    }\n",
       "\n",
       "    .dataframe tbody tr th {\n",
       "        vertical-align: top;\n",
       "    }\n",
       "\n",
       "    .dataframe thead th {\n",
       "        text-align: right;\n",
       "    }\n",
       "</style>\n",
       "<table border=\"1\" class=\"dataframe\">\n",
       "  <thead>\n",
       "    <tr style=\"text-align: right;\">\n",
       "      <th></th>\n",
       "      <th>age</th>\n",
       "      <th>sex</th>\n",
       "      <th>bmi</th>\n",
       "      <th>children</th>\n",
       "      <th>smoker</th>\n",
       "      <th>region</th>\n",
       "      <th>charges</th>\n",
       "    </tr>\n",
       "  </thead>\n",
       "  <tbody>\n",
       "    <tr>\n",
       "      <th>0</th>\n",
       "      <td>19</td>\n",
       "      <td>female</td>\n",
       "      <td>27.900</td>\n",
       "      <td>0</td>\n",
       "      <td>yes</td>\n",
       "      <td>southwest</td>\n",
       "      <td>16884.92400</td>\n",
       "    </tr>\n",
       "    <tr>\n",
       "      <th>1</th>\n",
       "      <td>18</td>\n",
       "      <td>male</td>\n",
       "      <td>33.770</td>\n",
       "      <td>1</td>\n",
       "      <td>no</td>\n",
       "      <td>southeast</td>\n",
       "      <td>1725.55230</td>\n",
       "    </tr>\n",
       "    <tr>\n",
       "      <th>2</th>\n",
       "      <td>28</td>\n",
       "      <td>male</td>\n",
       "      <td>33.000</td>\n",
       "      <td>3</td>\n",
       "      <td>no</td>\n",
       "      <td>southeast</td>\n",
       "      <td>4449.46200</td>\n",
       "    </tr>\n",
       "    <tr>\n",
       "      <th>3</th>\n",
       "      <td>33</td>\n",
       "      <td>male</td>\n",
       "      <td>22.705</td>\n",
       "      <td>0</td>\n",
       "      <td>no</td>\n",
       "      <td>northwest</td>\n",
       "      <td>21984.47061</td>\n",
       "    </tr>\n",
       "    <tr>\n",
       "      <th>4</th>\n",
       "      <td>32</td>\n",
       "      <td>male</td>\n",
       "      <td>28.880</td>\n",
       "      <td>0</td>\n",
       "      <td>no</td>\n",
       "      <td>northwest</td>\n",
       "      <td>3866.85520</td>\n",
       "    </tr>\n",
       "  </tbody>\n",
       "</table>\n",
       "</div>"
      ],
      "text/plain": [
       "   age     sex     bmi  children smoker     region      charges\n",
       "0   19  female  27.900         0    yes  southwest  16884.92400\n",
       "1   18    male  33.770         1     no  southeast   1725.55230\n",
       "2   28    male  33.000         3     no  southeast   4449.46200\n",
       "3   33    male  22.705         0     no  northwest  21984.47061\n",
       "4   32    male  28.880         0     no  northwest   3866.85520"
      ]
     },
     "execution_count": 107,
     "metadata": {},
     "output_type": "execute_result"
    }
   ],
   "source": [
    "df_m.head()"
   ]
  },
  {
   "cell_type": "code",
   "execution_count": 108,
   "id": "7fa0a24b-396c-48d9-936c-524ae14edb97",
   "metadata": {},
   "outputs": [
    {
     "data": {
      "text/plain": [
       "(1337, 7)"
      ]
     },
     "execution_count": 108,
     "metadata": {},
     "output_type": "execute_result"
    }
   ],
   "source": [
    "df_m.shape"
   ]
  },
  {
   "cell_type": "code",
   "execution_count": 109,
   "id": "9a94b596-f447-433d-bdc0-c500147fd375",
   "metadata": {},
   "outputs": [
    {
     "data": {
      "text/html": [
       "<div>\n",
       "<style scoped>\n",
       "    .dataframe tbody tr th:only-of-type {\n",
       "        vertical-align: middle;\n",
       "    }\n",
       "\n",
       "    .dataframe tbody tr th {\n",
       "        vertical-align: top;\n",
       "    }\n",
       "\n",
       "    .dataframe thead th {\n",
       "        text-align: right;\n",
       "    }\n",
       "</style>\n",
       "<table border=\"1\" class=\"dataframe\">\n",
       "  <thead>\n",
       "    <tr style=\"text-align: right;\">\n",
       "      <th></th>\n",
       "      <th>age</th>\n",
       "      <th>bmi</th>\n",
       "      <th>children</th>\n",
       "      <th>charges</th>\n",
       "    </tr>\n",
       "  </thead>\n",
       "  <tbody>\n",
       "    <tr>\n",
       "      <th>count</th>\n",
       "      <td>1337.000000</td>\n",
       "      <td>1337.000000</td>\n",
       "      <td>1337.000000</td>\n",
       "      <td>1337.000000</td>\n",
       "    </tr>\n",
       "    <tr>\n",
       "      <th>mean</th>\n",
       "      <td>39.222139</td>\n",
       "      <td>30.663452</td>\n",
       "      <td>1.095737</td>\n",
       "      <td>13279.121487</td>\n",
       "    </tr>\n",
       "    <tr>\n",
       "      <th>std</th>\n",
       "      <td>14.044333</td>\n",
       "      <td>6.100468</td>\n",
       "      <td>1.205571</td>\n",
       "      <td>12110.359656</td>\n",
       "    </tr>\n",
       "    <tr>\n",
       "      <th>min</th>\n",
       "      <td>18.000000</td>\n",
       "      <td>15.960000</td>\n",
       "      <td>0.000000</td>\n",
       "      <td>1121.873900</td>\n",
       "    </tr>\n",
       "    <tr>\n",
       "      <th>25%</th>\n",
       "      <td>27.000000</td>\n",
       "      <td>26.290000</td>\n",
       "      <td>0.000000</td>\n",
       "      <td>4746.344000</td>\n",
       "    </tr>\n",
       "    <tr>\n",
       "      <th>50%</th>\n",
       "      <td>39.000000</td>\n",
       "      <td>30.400000</td>\n",
       "      <td>1.000000</td>\n",
       "      <td>9386.161300</td>\n",
       "    </tr>\n",
       "    <tr>\n",
       "      <th>75%</th>\n",
       "      <td>51.000000</td>\n",
       "      <td>34.700000</td>\n",
       "      <td>2.000000</td>\n",
       "      <td>16657.717450</td>\n",
       "    </tr>\n",
       "    <tr>\n",
       "      <th>max</th>\n",
       "      <td>64.000000</td>\n",
       "      <td>53.130000</td>\n",
       "      <td>5.000000</td>\n",
       "      <td>63770.428010</td>\n",
       "    </tr>\n",
       "  </tbody>\n",
       "</table>\n",
       "</div>"
      ],
      "text/plain": [
       "               age          bmi     children       charges\n",
       "count  1337.000000  1337.000000  1337.000000   1337.000000\n",
       "mean     39.222139    30.663452     1.095737  13279.121487\n",
       "std      14.044333     6.100468     1.205571  12110.359656\n",
       "min      18.000000    15.960000     0.000000   1121.873900\n",
       "25%      27.000000    26.290000     0.000000   4746.344000\n",
       "50%      39.000000    30.400000     1.000000   9386.161300\n",
       "75%      51.000000    34.700000     2.000000  16657.717450\n",
       "max      64.000000    53.130000     5.000000  63770.428010"
      ]
     },
     "execution_count": 109,
     "metadata": {},
     "output_type": "execute_result"
    }
   ],
   "source": [
    "df_m.describe()"
   ]
  },
  {
   "cell_type": "code",
   "execution_count": 110,
   "id": "75dabe84-5775-4ec8-8099-07e7e5cff4d9",
   "metadata": {},
   "outputs": [
    {
     "data": {
      "text/html": [
       "<div>\n",
       "<style scoped>\n",
       "    .dataframe tbody tr th:only-of-type {\n",
       "        vertical-align: middle;\n",
       "    }\n",
       "\n",
       "    .dataframe tbody tr th {\n",
       "        vertical-align: top;\n",
       "    }\n",
       "\n",
       "    .dataframe thead th {\n",
       "        text-align: right;\n",
       "    }\n",
       "</style>\n",
       "<table border=\"1\" class=\"dataframe\">\n",
       "  <thead>\n",
       "    <tr style=\"text-align: right;\">\n",
       "      <th></th>\n",
       "      <th>sex</th>\n",
       "      <th>smoker</th>\n",
       "      <th>region</th>\n",
       "    </tr>\n",
       "  </thead>\n",
       "  <tbody>\n",
       "    <tr>\n",
       "      <th>count</th>\n",
       "      <td>1337</td>\n",
       "      <td>1337</td>\n",
       "      <td>1337</td>\n",
       "    </tr>\n",
       "    <tr>\n",
       "      <th>unique</th>\n",
       "      <td>2</td>\n",
       "      <td>2</td>\n",
       "      <td>4</td>\n",
       "    </tr>\n",
       "    <tr>\n",
       "      <th>top</th>\n",
       "      <td>male</td>\n",
       "      <td>no</td>\n",
       "      <td>southeast</td>\n",
       "    </tr>\n",
       "    <tr>\n",
       "      <th>freq</th>\n",
       "      <td>675</td>\n",
       "      <td>1063</td>\n",
       "      <td>364</td>\n",
       "    </tr>\n",
       "  </tbody>\n",
       "</table>\n",
       "</div>"
      ],
      "text/plain": [
       "         sex smoker     region\n",
       "count   1337   1337       1337\n",
       "unique     2      2          4\n",
       "top     male     no  southeast\n",
       "freq     675   1063        364"
      ]
     },
     "execution_count": 110,
     "metadata": {},
     "output_type": "execute_result"
    }
   ],
   "source": [
    "df_m.describe(include='O')"
   ]
  },
  {
   "cell_type": "code",
   "execution_count": 111,
   "id": "4481aaf7-11da-4c30-b127-baf36139ce6b",
   "metadata": {},
   "outputs": [
    {
     "name": "stdout",
     "output_type": "stream",
     "text": [
      "<class 'pandas.core.frame.DataFrame'>\n",
      "Index: 1337 entries, 0 to 1337\n",
      "Data columns (total 7 columns):\n",
      " #   Column    Non-Null Count  Dtype  \n",
      "---  ------    --------------  -----  \n",
      " 0   age       1337 non-null   int64  \n",
      " 1   sex       1337 non-null   object \n",
      " 2   bmi       1337 non-null   float64\n",
      " 3   children  1337 non-null   int64  \n",
      " 4   smoker    1337 non-null   object \n",
      " 5   region    1337 non-null   object \n",
      " 6   charges   1337 non-null   float64\n",
      "dtypes: float64(2), int64(2), object(3)\n",
      "memory usage: 83.6+ KB\n"
     ]
    }
   ],
   "source": [
    "df_m.info()"
   ]
  },
  {
   "cell_type": "markdown",
   "id": "14685580-ca4a-4ef6-9f70-93e47b37cbeb",
   "metadata": {},
   "source": [
    "## EDA"
   ]
  },
  {
   "cell_type": "code",
   "execution_count": 113,
   "id": "abf0de0c-7ccf-4b52-83e6-a0d2164c2413",
   "metadata": {},
   "outputs": [],
   "source": [
    "# we know that duplicates and missing values dont exist."
   ]
  },
  {
   "cell_type": "code",
   "execution_count": null,
   "id": "79944262-f4c3-466b-90ce-7f086b3fcf93",
   "metadata": {},
   "outputs": [],
   "source": []
  },
  {
   "cell_type": "code",
   "execution_count": null,
   "id": "3c30ed01-87b3-4740-a054-278632c14dcc",
   "metadata": {},
   "outputs": [],
   "source": []
  },
  {
   "cell_type": "code",
   "execution_count": 114,
   "id": "754ee117-5d38-47de-819c-12f7b9948121",
   "metadata": {},
   "outputs": [],
   "source": [
    "# checking skewness for transformations"
   ]
  },
  {
   "cell_type": "code",
   "execution_count": 115,
   "id": "d4bcf91c-4f4e-4aa2-b332-0cfb8b712128",
   "metadata": {},
   "outputs": [
    {
     "name": "stdout",
     "output_type": "stream",
     "text": [
      "moderate_positive_skew ['children']\n",
      "moderate_negative_skew []\n",
      "high_positive_skew ['charges']\n",
      "high_negative_skew []\n"
     ]
    }
   ],
   "source": [
    "moderate_positive_skew = []\n",
    "moderate_negative_skew = []\n",
    "high_positive_skew = []\n",
    "high_negative_skew = []\n",
    "for col in df_m.select_dtypes(include=np.number):\n",
    "    if (0.5<df_m[col].skew()<=1.0):\n",
    "        moderate_positive_skew.append(col)\n",
    "    elif ( df_m[col].skew()<(-0.5) and df_m[col].skew()>=(-1.0) ):\n",
    "        moderate_negative_skew.append(col)\n",
    "    elif ( df_m[col].skew()>1.0 ):\n",
    "        high_positive_skew.append(col)\n",
    "    elif ( df_m[col].skew()<(-1.0) ):\n",
    "        high_negative_skew.append(col)\n",
    "print('moderate_positive_skew',moderate_positive_skew)\n",
    "print('moderate_negative_skew',moderate_negative_skew)\n",
    "print('high_positive_skew',high_positive_skew)\n",
    "print('high_negative_skew',high_negative_skew)"
   ]
  },
  {
   "cell_type": "code",
   "execution_count": 116,
   "id": "6eeff63b-0b6a-4588-91f9-3d06faa05b49",
   "metadata": {},
   "outputs": [
    {
     "data": {
      "text/plain": [
       "0.28391419385321137"
      ]
     },
     "execution_count": 116,
     "metadata": {},
     "output_type": "execute_result"
    }
   ],
   "source": [
    "df_m.bmi.skew()"
   ]
  },
  {
   "cell_type": "code",
   "execution_count": 117,
   "id": "41a103cb-9433-4c7c-b40a-a44f09cb0e94",
   "metadata": {},
   "outputs": [
    {
     "data": {
      "text/plain": [
       "0.054780773126998195"
      ]
     },
     "execution_count": 117,
     "metadata": {},
     "output_type": "execute_result"
    }
   ],
   "source": [
    "df_m.age.skew()"
   ]
  },
  {
   "cell_type": "code",
   "execution_count": 118,
   "id": "5bafa021-83e0-424a-8497-0bd7f65d7327",
   "metadata": {},
   "outputs": [
    {
     "data": {
      "text/plain": [
       "array([0, 1, 3, 2, 5, 4], dtype=int64)"
      ]
     },
     "execution_count": 118,
     "metadata": {},
     "output_type": "execute_result"
    }
   ],
   "source": [
    "df_m.children.unique()"
   ]
  },
  {
   "cell_type": "code",
   "execution_count": null,
   "id": "7ed4d4d8-7e1e-456b-a925-668ec01a91e4",
   "metadata": {},
   "outputs": [],
   "source": []
  },
  {
   "cell_type": "code",
   "execution_count": null,
   "id": "4f524637-4491-4e27-b2b9-9203cbffe3b8",
   "metadata": {},
   "outputs": [],
   "source": []
  },
  {
   "cell_type": "code",
   "execution_count": 119,
   "id": "e34fa0bc-051e-442c-b2b5-b9fefb0cbcdc",
   "metadata": {},
   "outputs": [],
   "source": [
    "# outlier handling"
   ]
  },
  {
   "cell_type": "code",
   "execution_count": 120,
   "id": "cb50a4c1-27f6-436d-b48a-360abe2f162c",
   "metadata": {},
   "outputs": [
    {
     "data": {
      "text/plain": [
       "['age', 'bmi', 'children']"
      ]
     },
     "execution_count": 120,
     "metadata": {},
     "output_type": "execute_result"
    }
   ],
   "source": [
    "non_normal"
   ]
  },
  {
   "cell_type": "code",
   "execution_count": 121,
   "id": "0d338c2f-5bc2-4609-8022-17e4a1b1da8c",
   "metadata": {},
   "outputs": [
    {
     "name": "stdout",
     "output_type": "stream",
     "text": [
      "iqr_outliers ['bmi']\n"
     ]
    }
   ],
   "source": [
    "iqr_outliers=[]\n",
    "for col in non_normal:\n",
    "    q1=np.quantile(df_m[col],0.25)\n",
    "    q3=np.quantile(df_m[col],0.75)\n",
    "    iqr=q3-q1\n",
    "    ll=q1-(1.5*iqr)\n",
    "    ul=q3+(1.5*iqr)\n",
    "    #\n",
    "    lo = df_m.loc[df_m[col]<ll]\n",
    "    uo = df_m.loc[df_m[col]>ul]\n",
    "    #\n",
    "    if( len(lo)>0 or len(uo)>0 ):\n",
    "        iqr_outliers.append(col)\n",
    "print('iqr_outliers',iqr_outliers)"
   ]
  },
  {
   "cell_type": "code",
   "execution_count": 122,
   "id": "3845133d-72b0-49d9-998c-1d2899073fb4",
   "metadata": {
    "scrolled": true
   },
   "outputs": [
    {
     "data": {
      "image/png": "[encoded data removed]",
      "text/plain": [
       "<Figure size 640x480 with 1 Axes>"
      ]
     },
     "metadata": {},
     "output_type": "display_data"
    },
    {
     "data": {
      "image/png": "[encoded data removed]",
      "text/plain": [
       "<Figure size 640x480 with 1 Axes>"
      ]
     },
     "metadata": {},
     "output_type": "display_data"
    },
    {
     "data": {
      "image/png": "[encoded data removed]",
      "text/plain": [
       "<Figure size 640x480 with 1 Axes>"
      ]
     },
     "metadata": {},
     "output_type": "display_data"
    }
   ],
   "source": [
    "for col in non_normal:\n",
    "    sns.boxplot(df_m[col])\n",
    "    plt.show()"
   ]
  },
  {
   "cell_type": "code",
   "execution_count": 123,
   "id": "652e3d86-2815-434b-8932-ae390343b21a",
   "metadata": {},
   "outputs": [
    {
     "data": {
      "text/plain": [
       "['sex', 'smoker', 'region']"
      ]
     },
     "execution_count": 123,
     "metadata": {},
     "output_type": "execute_result"
    }
   ],
   "source": [
    "categoric"
   ]
  },
  {
   "cell_type": "code",
   "execution_count": null,
   "id": "bf22689c-b18b-4a76-b910-9e83f8611407",
   "metadata": {},
   "outputs": [],
   "source": []
  },
  {
   "cell_type": "code",
   "execution_count": null,
   "id": "475160fd-1348-445f-b05c-82c9c9fd7da3",
   "metadata": {},
   "outputs": [],
   "source": []
  },
  {
   "cell_type": "code",
   "execution_count": 124,
   "id": "90821026-29ce-4f60-8c60-f19e690f8c57",
   "metadata": {},
   "outputs": [],
   "source": [
    "# scaling"
   ]
  },
  {
   "cell_type": "code",
   "execution_count": 125,
   "id": "6fac5307-9eac-4dce-9bac-38b5438de99b",
   "metadata": {},
   "outputs": [
    {
     "name": "stdout",
     "output_type": "stream",
     "text": [
      "age: 46\n",
      "bmi: 37.17\n",
      "children: 5\n",
      "charges: 62648.554110000005\n"
     ]
    }
   ],
   "source": [
    "for col in numeric:\n",
    "    print(f'{col}: {df_m[col].max()-df_m[col].min()}')"
   ]
  },
  {
   "cell_type": "code",
   "execution_count": null,
   "id": "411ef045-b0e7-4ad5-ab39-d47734f5a571",
   "metadata": {},
   "outputs": [],
   "source": []
  },
  {
   "cell_type": "markdown",
   "id": "d190e13c-b30d-4eaf-9ea4-98e5a8e2c9a2",
   "metadata": {},
   "source": [
    "## BUILD COLUMNTRANSFORMER"
   ]
  },
  {
   "cell_type": "code",
   "execution_count": 127,
   "id": "d751a484-e8bb-416b-b1ae-111a30e94beb",
   "metadata": {},
   "outputs": [],
   "source": [
    "class iqr_outlier_handler(BaseEstimator, TransformerMixin):\n",
    "    \n",
    "    def __init__(self):\n",
    "        self.ll_ = {}\n",
    "        self.ul_ = {}\n",
    "        self.median_ = {}\n",
    "        self.columns_to_modify_ = []\n",
    "\n",
    "    def fit(self, X, y=None):\n",
    "        numeric_cols = X.select_dtypes(include=np.number).columns\n",
    "        for col in numeric_cols:\n",
    "            q1 = X[col].quantile(0.25)\n",
    "            q3 = X[col].quantile(0.75)\n",
    "            iqr = q3 - q1\n",
    "            ll = q1 - 1.5 * iqr\n",
    "            ul = q3 + 1.5 * iqr\n",
    "            median = X[col].median()\n",
    "\n",
    "            outlier_mask = (X[col] < ll) | (X[col] > ul)\n",
    "            outlier_ratio = outlier_mask.sum() / len(X)\n",
    "\n",
    "            if outlier_ratio < 0.05:\n",
    "                self.ll_[col] = ll\n",
    "                self.ul_[col] = ul\n",
    "                self.median_[col] = median\n",
    "                self.columns_to_modify_.append(col)\n",
    "\n",
    "        return self\n",
    "\n",
    "    def transform(self, X, y=None):\n",
    "        X = X.copy()\n",
    "        for col in self.columns_to_modify_:\n",
    "            ll = self.ll_[col]\n",
    "            ul = self.ul_[col]\n",
    "            median = self.median_[col]\n",
    "            outlier_mask = (X[col] < ll) | (X[col] > ul)\n",
    "            X.loc[outlier_mask, col] = median\n",
    "        return X"
   ]
  },
  {
   "cell_type": "code",
   "execution_count": 128,
   "id": "021fc783-8195-470a-ac39-070e4ce367ac",
   "metadata": {},
   "outputs": [],
   "source": [
    "\n",
    "class ModifiedLabelEncoder(LabelEncoder):\n",
    "    def fit_transform(self, y, *args, **kwargs):\n",
    "        return super().fit_transform(y).reshape(-1, 1)\n",
    "\n",
    "    def transform(self, y, *args, **kwargs):\n",
    "        return super().transform(y).reshape(-1, 1)\n",
    " "
   ]
  },
  {
   "cell_type": "markdown",
   "id": "cd798ff3-e10e-405f-8336-fef7bea64011",
   "metadata": {},
   "source": [
    "## TRANSFORMATIONS TO COLS"
   ]
  },
  {
   "cell_type": "code",
   "execution_count": null,
   "id": "cbeca849-a0ad-4da0-979f-30a804749d49",
   "metadata": {},
   "outputs": [],
   "source": []
  },
  {
   "cell_type": "raw",
   "id": "f97b0d0d-b9d2-4cc5-849b-8939ebc5e638",
   "metadata": {},
   "source": [
    "outlier_handling_list = ['bmi']\n",
    "labelencoder_list = ['sex','smoker']\n",
    "ohe_list = ['region']\n",
    "minmax_scaling_list = ['age','bmi']"
   ]
  },
  {
   "cell_type": "code",
   "execution_count": 130,
   "id": "ebdedd8d-0845-40fd-9b9b-6a5469953d99",
   "metadata": {},
   "outputs": [],
   "source": [
    "# bmi\n",
    "bmi_pipeline = Pipeline([\n",
    "                       ('outlier handling',iqr_outlier_handler()),\n",
    "                       ('min max scaling',MinMaxScaler())\n",
    "                        ])\n",
    "# age\n",
    "age_pipeline = Pipeline(\n",
    "    [('min max scaling age',MinMaxScaler())\n",
    "    ])\n",
    "# sex\n",
    "sex_pipeline = Pipeline([('label encoder',ModifiedLabelEncoder())])\n",
    "# smoker\n",
    "smoker_pipeline = Pipeline([('label encoder',ModifiedLabelEncoder())])\n",
    "# region\n",
    "region_pipeline = Pipeline([('ohe',OneHotEncoder(handle_unknown='ignore'))])"
   ]
  },
  {
   "cell_type": "code",
   "execution_count": 131,
   "id": "568b99dc-9aa2-4d3b-bacf-6fb1a586c22b",
   "metadata": {},
   "outputs": [],
   "source": [
    "preprocessor = ColumnTransformer([('bmi pipeline',bmi_pipeline,['bmi']),\n",
    "                                  ('age pipeline',age_pipeline,['age']),\n",
    "                                  ('sex pipeline',sex_pipeline,['sex']),\n",
    "                                  ('smoker pipeline',smoker_pipeline,['smoker']),\n",
    "                                  ('region pipeline',region_pipeline,['region'])])"
   ]
  },
  {
   "cell_type": "code",
   "execution_count": 132,
   "id": "bee97ba1-f5b8-4f43-ab5b-8fedf0f5cee1",
   "metadata": {},
   "outputs": [],
   "source": [
    "# data splitting, model in pipeline etc."
   ]
  },
  {
   "cell_type": "code",
   "execution_count": 133,
   "id": "22645347-db9e-4eee-97ba-bc471a4ec710",
   "metadata": {},
   "outputs": [
    {
     "data": {
      "text/html": [
       "<div>\n",
       "<style scoped>\n",
       "    .dataframe tbody tr th:only-of-type {\n",
       "        vertical-align: middle;\n",
       "    }\n",
       "\n",
       "    .dataframe tbody tr th {\n",
       "        vertical-align: top;\n",
       "    }\n",
       "\n",
       "    .dataframe thead th {\n",
       "        text-align: right;\n",
       "    }\n",
       "</style>\n",
       "<table border=\"1\" class=\"dataframe\">\n",
       "  <thead>\n",
       "    <tr style=\"text-align: right;\">\n",
       "      <th></th>\n",
       "      <th>age</th>\n",
       "      <th>sex</th>\n",
       "      <th>bmi</th>\n",
       "      <th>children</th>\n",
       "      <th>smoker</th>\n",
       "      <th>region</th>\n",
       "      <th>charges</th>\n",
       "    </tr>\n",
       "  </thead>\n",
       "  <tbody>\n",
       "    <tr>\n",
       "      <th>0</th>\n",
       "      <td>19</td>\n",
       "      <td>female</td>\n",
       "      <td>27.900</td>\n",
       "      <td>0</td>\n",
       "      <td>yes</td>\n",
       "      <td>southwest</td>\n",
       "      <td>16884.92400</td>\n",
       "    </tr>\n",
       "    <tr>\n",
       "      <th>1</th>\n",
       "      <td>18</td>\n",
       "      <td>male</td>\n",
       "      <td>33.770</td>\n",
       "      <td>1</td>\n",
       "      <td>no</td>\n",
       "      <td>southeast</td>\n",
       "      <td>1725.55230</td>\n",
       "    </tr>\n",
       "    <tr>\n",
       "      <th>2</th>\n",
       "      <td>28</td>\n",
       "      <td>male</td>\n",
       "      <td>33.000</td>\n",
       "      <td>3</td>\n",
       "      <td>no</td>\n",
       "      <td>southeast</td>\n",
       "      <td>4449.46200</td>\n",
       "    </tr>\n",
       "    <tr>\n",
       "      <th>3</th>\n",
       "      <td>33</td>\n",
       "      <td>male</td>\n",
       "      <td>22.705</td>\n",
       "      <td>0</td>\n",
       "      <td>no</td>\n",
       "      <td>northwest</td>\n",
       "      <td>21984.47061</td>\n",
       "    </tr>\n",
       "    <tr>\n",
       "      <th>4</th>\n",
       "      <td>32</td>\n",
       "      <td>male</td>\n",
       "      <td>28.880</td>\n",
       "      <td>0</td>\n",
       "      <td>no</td>\n",
       "      <td>northwest</td>\n",
       "      <td>3866.85520</td>\n",
       "    </tr>\n",
       "    <tr>\n",
       "      <th>...</th>\n",
       "      <td>...</td>\n",
       "      <td>...</td>\n",
       "      <td>...</td>\n",
       "      <td>...</td>\n",
       "      <td>...</td>\n",
       "      <td>...</td>\n",
       "      <td>...</td>\n",
       "    </tr>\n",
       "    <tr>\n",
       "      <th>1333</th>\n",
       "      <td>50</td>\n",
       "      <td>male</td>\n",
       "      <td>30.970</td>\n",
       "      <td>3</td>\n",
       "      <td>no</td>\n",
       "      <td>northwest</td>\n",
       "      <td>10600.54830</td>\n",
       "    </tr>\n",
       "    <tr>\n",
       "      <th>1334</th>\n",
       "      <td>18</td>\n",
       "      <td>female</td>\n",
       "      <td>31.920</td>\n",
       "      <td>0</td>\n",
       "      <td>no</td>\n",
       "      <td>northeast</td>\n",
       "      <td>2205.98080</td>\n",
       "    </tr>\n",
       "    <tr>\n",
       "      <th>1335</th>\n",
       "      <td>18</td>\n",
       "      <td>female</td>\n",
       "      <td>36.850</td>\n",
       "      <td>0</td>\n",
       "      <td>no</td>\n",
       "      <td>southeast</td>\n",
       "      <td>1629.83350</td>\n",
       "    </tr>\n",
       "    <tr>\n",
       "      <th>1336</th>\n",
       "      <td>21</td>\n",
       "      <td>female</td>\n",
       "      <td>25.800</td>\n",
       "      <td>0</td>\n",
       "      <td>no</td>\n",
       "      <td>southwest</td>\n",
       "      <td>2007.94500</td>\n",
       "    </tr>\n",
       "    <tr>\n",
       "      <th>1337</th>\n",
       "      <td>61</td>\n",
       "      <td>female</td>\n",
       "      <td>29.070</td>\n",
       "      <td>0</td>\n",
       "      <td>yes</td>\n",
       "      <td>northwest</td>\n",
       "      <td>29141.36030</td>\n",
       "    </tr>\n",
       "  </tbody>\n",
       "</table>\n",
       "<p>1337 rows × 7 columns</p>\n",
       "</div>"
      ],
      "text/plain": [
       "      age     sex     bmi  children smoker     region      charges\n",
       "0      19  female  27.900         0    yes  southwest  16884.92400\n",
       "1      18    male  33.770         1     no  southeast   1725.55230\n",
       "2      28    male  33.000         3     no  southeast   4449.46200\n",
       "3      33    male  22.705         0     no  northwest  21984.47061\n",
       "4      32    male  28.880         0     no  northwest   3866.85520\n",
       "...   ...     ...     ...       ...    ...        ...          ...\n",
       "1333   50    male  30.970         3     no  northwest  10600.54830\n",
       "1334   18  female  31.920         0     no  northeast   2205.98080\n",
       "1335   18  female  36.850         0     no  southeast   1629.83350\n",
       "1336   21  female  25.800         0     no  southwest   2007.94500\n",
       "1337   61  female  29.070         0    yes  northwest  29141.36030\n",
       "\n",
       "[1337 rows x 7 columns]"
      ]
     },
     "execution_count": 133,
     "metadata": {},
     "output_type": "execute_result"
    }
   ],
   "source": [
    "df_m"
   ]
  },
  {
   "cell_type": "code",
   "execution_count": 134,
   "id": "2b2a83c2-3d07-4d89-a701-da78519913a0",
   "metadata": {},
   "outputs": [],
   "source": [
    "X = df_m.drop(columns='charges')\n",
    "y = df_m['charges']"
   ]
  },
  {
   "cell_type": "code",
   "execution_count": 135,
   "id": "b3016640-4b20-4ffa-ac31-316457318896",
   "metadata": {},
   "outputs": [],
   "source": [
    "xtrainp,xtestp,ytrainp,ytestp = train_test_split(X,y,test_size=0.2,random_state=42)"
   ]
  },
  {
   "cell_type": "code",
   "execution_count": 136,
   "id": "50e78eb7-1c2d-4227-9410-f7c4f9a3fba2",
   "metadata": {},
   "outputs": [],
   "source": [
    "model_pipeline = Pipeline([\n",
    "('data pre-processing',preprocessor),\n",
    "('model',GradientBoostingRegressor())\n",
    "])"
   ]
  },
  {
   "cell_type": "code",
   "execution_count": 137,
   "id": "ae012f96-5003-48fd-a078-5c8668d1f294",
   "metadata": {},
   "outputs": [
    {
     "name": "stderr",
     "output_type": "stream",
     "text": [
      "C:\\Users\\DELL\\anaconda3\\Lib\\site-packages\\sklearn\\preprocessing\\_label.py:114: DataConversionWarning: A column-vector y was passed when a 1d array was expected. Please change the shape of y to (n_samples, ), for example using ravel().\n",
      "  y = column_or_1d(y, warn=True)\n",
      "C:\\Users\\DELL\\anaconda3\\Lib\\site-packages\\sklearn\\preprocessing\\_label.py:114: DataConversionWarning: A column-vector y was passed when a 1d array was expected. Please change the shape of y to (n_samples, ), for example using ravel().\n",
      "  y = column_or_1d(y, warn=True)\n",
      "C:\\Users\\DELL\\anaconda3\\Lib\\site-packages\\sklearn\\preprocessing\\_label.py:132: DataConversionWarning: A column-vector y was passed when a 1d array was expected. Please change the shape of y to (n_samples, ), for example using ravel().\n",
      "  y = column_or_1d(y, dtype=self.classes_.dtype, warn=True)\n",
      "C:\\Users\\DELL\\anaconda3\\Lib\\site-packages\\sklearn\\preprocessing\\_label.py:132: DataConversionWarning: A column-vector y was passed when a 1d array was expected. Please change the shape of y to (n_samples, ), for example using ravel().\n",
      "  y = column_or_1d(y, dtype=self.classes_.dtype, warn=True)\n"
     ]
    }
   ],
   "source": [
    "model_pipeline.fit(xtrainp,np.log1p(ytrainp))\n",
    "ypred_model_pipeline = model_pipeline.predict(xtestp)"
   ]
  },
  {
   "cell_type": "code",
   "execution_count": 138,
   "id": "57eede89-5c8d-40e5-8d2b-b14e88aed56c",
   "metadata": {},
   "outputs": [],
   "source": [
    "ypred_model_pipeline_true = np.expm1(ypred_model_pipeline)"
   ]
  },
  {
   "cell_type": "code",
   "execution_count": 139,
   "id": "ed540aca-87ff-48ff-af5c-0502a32ec70b",
   "metadata": {},
   "outputs": [
    {
     "name": "stdout",
     "output_type": "stream",
     "text": [
      "Final Model Evaluation Metrics\n",
      "MSE : 19834183.508521754\n",
      "RMSE: 4453.558521959912\n",
      "MAE : 2261.875499808044\n",
      "R² Score: 0.8920624273706386\n"
     ]
    }
   ],
   "source": [
    "mse = mean_squared_error(ytestp, ypred_model_pipeline_true)\n",
    "rmse = np.sqrt(mse)\n",
    "mae = mean_absolute_error(ytestp, ypred_model_pipeline_true)\n",
    "r2 = r2_score(ytestp, ypred_model_pipeline_true)\n",
    "print(\"Final Model Evaluation Metrics\")\n",
    "print(\"MSE :\", mse)\n",
    "print(\"RMSE:\", rmse)\n",
    "print(\"MAE :\", mae)\n",
    "print(\"R² Score:\", r2)"
   ]
  },
  {
   "cell_type": "markdown",
   "id": "77258b74-1429-481a-bacc-54cd74b17298",
   "metadata": {},
   "source": [
    "## PIPELINE HYPERPARAMETER TUNING"
   ]
  },
  {
   "cell_type": "code",
   "execution_count": 141,
   "id": "96d2f4ae-408c-4b0b-946e-9ad235e26464",
   "metadata": {},
   "outputs": [],
   "source": [
    "param_grid = {\n",
    "'model__max_depth':[3,4,6,8,10], #5\n",
    "'model__learning_rate':[0.01,0.04,0.07,0.1,0.3,0.6,0.8], #8\n",
    "'model__n_estimators':[50,65,80,100,150] #5\n",
    "}"
   ]
  },
  {
   "cell_type": "code",
   "execution_count": 142,
   "id": "8537aef1-73dc-4d1b-9040-f6b8771c6b73",
   "metadata": {},
   "outputs": [],
   "source": [
    "model_pipeline_gcv = GridSearchCV(\n",
    "    estimator=model_pipeline,\n",
    "    param_grid=param_grid,\n",
    "    cv=5,\n",
    "    n_jobs=-1,\n",
    "    verbose=1\n",
    ")"
   ]
  },
  {
   "cell_type": "code",
   "execution_count": 143,
   "id": "ceba0777-2436-4665-bd19-9562f83bb85d",
   "metadata": {},
   "outputs": [
    {
     "name": "stdout",
     "output_type": "stream",
     "text": [
      "Fitting 5 folds for each of 175 candidates, totalling 875 fits\n"
     ]
    },
    {
     "name": "stderr",
     "output_type": "stream",
     "text": [
      "C:\\Users\\DELL\\anaconda3\\Lib\\site-packages\\sklearn\\preprocessing\\_label.py:114: DataConversionWarning: A column-vector y was passed when a 1d array was expected. Please change the shape of y to (n_samples, ), for example using ravel().\n",
      "  y = column_or_1d(y, warn=True)\n",
      "C:\\Users\\DELL\\anaconda3\\Lib\\site-packages\\sklearn\\preprocessing\\_label.py:114: DataConversionWarning: A column-vector y was passed when a 1d array was expected. Please change the shape of y to (n_samples, ), for example using ravel().\n",
      "  y = column_or_1d(y, warn=True)\n"
     ]
    },
    {
     "data": {
      "text/html": [
       "<style>#sk-container-id-1 {\n",
       "  /* Definition of color scheme common for light and dark mode */\n",
       "  --sklearn-color-text: black;\n",
       "  --sklearn-color-line: gray;\n",
       "  /* Definition of color scheme for unfitted estimators */\n",
       "  --sklearn-color-unfitted-level-0: #fff5e6;\n",
       "  --sklearn-color-unfitted-level-1: #f6e4d2;\n",
       "  --sklearn-color-unfitted-level-2: #ffe0b3;\n",
       "  --sklearn-color-unfitted-level-3: chocolate;\n",
       "  /* Definition of color scheme for fitted estimators */\n",
       "  --sklearn-color-fitted-level-0: #f0f8ff;\n",
       "  --sklearn-color-fitted-level-1: #d4ebff;\n",
       "  --sklearn-color-fitted-level-2: #b3dbfd;\n",
       "  --sklearn-color-fitted-level-3: cornflowerblue;\n",
       "\n",
       "  /* Specific color for light theme */\n",
       "  --sklearn-color-text-on-default-background: var(--sg-text-color, var(--theme-code-foreground, var(--jp-content-font-color1, black)));\n",
       "  --sklearn-color-background: var(--sg-background-color, var(--theme-background, var(--jp-layout-color0, white)));\n",
       "  --sklearn-color-border-box: var(--sg-text-color, var(--theme-code-foreground, var(--jp-content-font-color1, black)));\n",
       "  --sklearn-color-icon: #696969;\n",
       "\n",
       "  @media (prefers-color-scheme: dark) {\n",
       "    /* Redefinition of color scheme for dark theme */\n",
       "    --sklearn-color-text-on-default-background: var(--sg-text-color, var(--theme-code-foreground, var(--jp-content-font-color1, white)));\n",
       "    --sklearn-color-background: var(--sg-background-color, var(--theme-background, var(--jp-layout-color0, #111)));\n",
       "    --sklearn-color-border-box: var(--sg-text-color, var(--theme-code-foreground, var(--jp-content-font-color1, white)));\n",
       "    --sklearn-color-icon: #878787;\n",
       "  }\n",
       "}\n",
       "\n",
       "#sk-container-id-1 {\n",
       "  color: var(--sklearn-color-text);\n",
       "}\n",
       "\n",
       "#sk-container-id-1 pre {\n",
       "  padding: 0;\n",
       "}\n",
       "\n",
       "#sk-container-id-1 input.sk-hidden--visually {\n",
       "  border: 0;\n",
       "  clip: rect(1px 1px 1px 1px);\n",
       "  clip: rect(1px, 1px, 1px, 1px);\n",
       "  height: 1px;\n",
       "  margin: -1px;\n",
       "  overflow: hidden;\n",
       "  padding: 0;\n",
       "  position: absolute;\n",
       "  width: 1px;\n",
       "}\n",
       "\n",
       "#sk-container-id-1 div.sk-dashed-wrapped {\n",
       "  border: 1px dashed var(--sklearn-color-line);\n",
       "  margin: 0 0.4em 0.5em 0.4em;\n",
       "  box-sizing: border-box;\n",
       "  padding-bottom: 0.4em;\n",
       "  background-color: var(--sklearn-color-background);\n",
       "}\n",
       "\n",
       "#sk-container-id-1 div.sk-container {\n",
       "  /* jupyter's `normalize.less` sets `[hidden] { display: none; }`\n",
       "     but bootstrap.min.css set `[hidden] { display: none !important; }`\n",
       "     so we also need the `!important` here to be able to override the\n",
       "     default hidden behavior on the sphinx rendered scikit-learn.org.\n",
       "     See: https://github.com/scikit-learn/scikit-learn/issues/21755 */\n",
       "  display: inline-block !important;\n",
       "  position: relative;\n",
       "}\n",
       "\n",
       "#sk-container-id-1 div.sk-text-repr-fallback {\n",
       "  display: none;\n",
       "}\n",
       "\n",
       "div.sk-parallel-item,\n",
       "div.sk-serial,\n",
       "div.sk-item {\n",
       "  /* draw centered vertical line to link estimators */\n",
       "  background-image: linear-gradient(var(--sklearn-color-text-on-default-background), var(--sklearn-color-text-on-default-background));\n",
       "  background-size: 2px 100%;\n",
       "  background-repeat: no-repeat;\n",
       "  background-position: center center;\n",
       "}\n",
       "\n",
       "/* Parallel-specific style estimator block */\n",
       "\n",
       "#sk-container-id-1 div.sk-parallel-item::after {\n",
       "  content: \"\";\n",
       "  width: 100%;\n",
       "  border-bottom: 2px solid var(--sklearn-color-text-on-default-background);\n",
       "  flex-grow: 1;\n",
       "}\n",
       "\n",
       "#sk-container-id-1 div.sk-parallel {\n",
       "  display: flex;\n",
       "  align-items: stretch;\n",
       "  justify-content: center;\n",
       "  background-color: var(--sklearn-color-background);\n",
       "  position: relative;\n",
       "}\n",
       "\n",
       "#sk-container-id-1 div.sk-parallel-item {\n",
       "  display: flex;\n",
       "  flex-direction: column;\n",
       "}\n",
       "\n",
       "#sk-container-id-1 div.sk-parallel-item:first-child::after {\n",
       "  align-self: flex-end;\n",
       "  width: 50%;\n",
       "}\n",
       "\n",
       "#sk-container-id-1 div.sk-parallel-item:last-child::after {\n",
       "  align-self: flex-start;\n",
       "  width: 50%;\n",
       "}\n",
       "\n",
       "#sk-container-id-1 div.sk-parallel-item:only-child::after {\n",
       "  width: 0;\n",
       "}\n",
       "\n",
       "/* Serial-specific style estimator block */\n",
       "\n",
       "#sk-container-id-1 div.sk-serial {\n",
       "  display: flex;\n",
       "  flex-direction: column;\n",
       "  align-items: center;\n",
       "  background-color: var(--sklearn-color-background);\n",
       "  padding-right: 1em;\n",
       "  padding-left: 1em;\n",
       "}\n",
       "\n",
       "\n",
       "/* Toggleable style: style used for estimator/Pipeline/ColumnTransformer box that is\n",
       "clickable and can be expanded/collapsed.\n",
       "- Pipeline and ColumnTransformer use this feature and define the default style\n",
       "- Estimators will overwrite some part of the style using the `sk-estimator` class\n",
       "*/\n",
       "\n",
       "/* Pipeline and ColumnTransformer style (default) */\n",
       "\n",
       "#sk-container-id-1 div.sk-toggleable {\n",
       "  /* Default theme specific background. It is overwritten whether we have a\n",
       "  specific estimator or a Pipeline/ColumnTransformer */\n",
       "  background-color: var(--sklearn-color-background);\n",
       "}\n",
       "\n",
       "/* Toggleable label */\n",
       "#sk-container-id-1 label.sk-toggleable__label {\n",
       "  cursor: pointer;\n",
       "  display: block;\n",
       "  width: 100%;\n",
       "  margin-bottom: 0;\n",
       "  padding: 0.5em;\n",
       "  box-sizing: border-box;\n",
       "  text-align: center;\n",
       "}\n",
       "\n",
       "#sk-container-id-1 label.sk-toggleable__label-arrow:before {\n",
       "  /* Arrow on the left of the label */\n",
       "  content: \"▸\";\n",
       "  float: left;\n",
       "  margin-right: 0.25em;\n",
       "  color: var(--sklearn-color-icon);\n",
       "}\n",
       "\n",
       "#sk-container-id-1 label.sk-toggleable__label-arrow:hover:before {\n",
       "  color: var(--sklearn-color-text);\n",
       "}\n",
       "\n",
       "/* Toggleable content - dropdown */\n",
       "\n",
       "#sk-container-id-1 div.sk-toggleable__content {\n",
       "  max-height: 0;\n",
       "  max-width: 0;\n",
       "  overflow: hidden;\n",
       "  text-align: left;\n",
       "  /* unfitted */\n",
       "  background-color: var(--sklearn-color-unfitted-level-0);\n",
       "}\n",
       "\n",
       "#sk-container-id-1 div.sk-toggleable__content.fitted {\n",
       "  /* fitted */\n",
       "  background-color: var(--sklearn-color-fitted-level-0);\n",
       "}\n",
       "\n",
       "#sk-container-id-1 div.sk-toggleable__content pre {\n",
       "  margin: 0.2em;\n",
       "  border-radius: 0.25em;\n",
       "  color: var(--sklearn-color-text);\n",
       "  /* unfitted */\n",
       "  background-color: var(--sklearn-color-unfitted-level-0);\n",
       "}\n",
       "\n",
       "#sk-container-id-1 div.sk-toggleable__content.fitted pre {\n",
       "  /* unfitted */\n",
       "  background-color: var(--sklearn-color-fitted-level-0);\n",
       "}\n",
       "\n",
       "#sk-container-id-1 input.sk-toggleable__control:checked~div.sk-toggleable__content {\n",
       "  /* Expand drop-down */\n",
       "  max-height: 200px;\n",
       "  max-width: 100%;\n",
       "  overflow: auto;\n",
       "}\n",
       "\n",
       "#sk-container-id-1 input.sk-toggleable__control:checked~label.sk-toggleable__label-arrow:before {\n",
       "  content: \"▾\";\n",
       "}\n",
       "\n",
       "/* Pipeline/ColumnTransformer-specific style */\n",
       "\n",
       "#sk-container-id-1 div.sk-label input.sk-toggleable__control:checked~label.sk-toggleable__label {\n",
       "  color: var(--sklearn-color-text);\n",
       "  background-color: var(--sklearn-color-unfitted-level-2);\n",
       "}\n",
       "\n",
       "#sk-container-id-1 div.sk-label.fitted input.sk-toggleable__control:checked~label.sk-toggleable__label {\n",
       "  background-color: var(--sklearn-color-fitted-level-2);\n",
       "}\n",
       "\n",
       "/* Estimator-specific style */\n",
       "\n",
       "/* Colorize estimator box */\n",
       "#sk-container-id-1 div.sk-estimator input.sk-toggleable__control:checked~label.sk-toggleable__label {\n",
       "  /* unfitted */\n",
       "  background-color: var(--sklearn-color-unfitted-level-2);\n",
       "}\n",
       "\n",
       "#sk-container-id-1 div.sk-estimator.fitted input.sk-toggleable__control:checked~label.sk-toggleable__label {\n",
       "  /* fitted */\n",
       "  background-color: var(--sklearn-color-fitted-level-2);\n",
       "}\n",
       "\n",
       "#sk-container-id-1 div.sk-label label.sk-toggleable__label,\n",
       "#sk-container-id-1 div.sk-label label {\n",
       "  /* The background is the default theme color */\n",
       "  color: var(--sklearn-color-text-on-default-background);\n",
       "}\n",
       "\n",
       "/* On hover, darken the color of the background */\n",
       "#sk-container-id-1 div.sk-label:hover label.sk-toggleable__label {\n",
       "  color: var(--sklearn-color-text);\n",
       "  background-color: var(--sklearn-color-unfitted-level-2);\n",
       "}\n",
       "\n",
       "/* Label box, darken color on hover, fitted */\n",
       "#sk-container-id-1 div.sk-label.fitted:hover label.sk-toggleable__label.fitted {\n",
       "  color: var(--sklearn-color-text);\n",
       "  background-color: var(--sklearn-color-fitted-level-2);\n",
       "}\n",
       "\n",
       "/* Estimator label */\n",
       "\n",
       "#sk-container-id-1 div.sk-label label {\n",
       "  font-family: monospace;\n",
       "  font-weight: bold;\n",
       "  display: inline-block;\n",
       "  line-height: 1.2em;\n",
       "}\n",
       "\n",
       "#sk-container-id-1 div.sk-label-container {\n",
       "  text-align: center;\n",
       "}\n",
       "\n",
       "/* Estimator-specific */\n",
       "#sk-container-id-1 div.sk-estimator {\n",
       "  font-family: monospace;\n",
       "  border: 1px dotted var(--sklearn-color-border-box);\n",
       "  border-radius: 0.25em;\n",
       "  box-sizing: border-box;\n",
       "  margin-bottom: 0.5em;\n",
       "  /* unfitted */\n",
       "  background-color: var(--sklearn-color-unfitted-level-0);\n",
       "}\n",
       "\n",
       "#sk-container-id-1 div.sk-estimator.fitted {\n",
       "  /* fitted */\n",
       "  background-color: var(--sklearn-color-fitted-level-0);\n",
       "}\n",
       "\n",
       "/* on hover */\n",
       "#sk-container-id-1 div.sk-estimator:hover {\n",
       "  /* unfitted */\n",
       "  background-color: var(--sklearn-color-unfitted-level-2);\n",
       "}\n",
       "\n",
       "#sk-container-id-1 div.sk-estimator.fitted:hover {\n",
       "  /* fitted */\n",
       "  background-color: var(--sklearn-color-fitted-level-2);\n",
       "}\n",
       "\n",
       "/* Specification for estimator info (e.g. \"i\" and \"?\") */\n",
       "\n",
       "/* Common style for \"i\" and \"?\" */\n",
       "\n",
       ".sk-estimator-doc-link,\n",
       "a:link.sk-estimator-doc-link,\n",
       "a:visited.sk-estimator-doc-link {\n",
       "  float: right;\n",
       "  font-size: smaller;\n",
       "  line-height: 1em;\n",
       "  font-family: monospace;\n",
       "  background-color: var(--sklearn-color-background);\n",
       "  border-radius: 1em;\n",
       "  height: 1em;\n",
       "  width: 1em;\n",
       "  text-decoration: none !important;\n",
       "  margin-left: 1ex;\n",
       "  /* unfitted */\n",
       "  border: var(--sklearn-color-unfitted-level-1) 1pt solid;\n",
       "  color: var(--sklearn-color-unfitted-level-1);\n",
       "}\n",
       "\n",
       ".sk-estimator-doc-link.fitted,\n",
       "a:link.sk-estimator-doc-link.fitted,\n",
       "a:visited.sk-estimator-doc-link.fitted {\n",
       "  /* fitted */\n",
       "  border: var(--sklearn-color-fitted-level-1) 1pt solid;\n",
       "  color: var(--sklearn-color-fitted-level-1);\n",
       "}\n",
       "\n",
       "/* On hover */\n",
       "div.sk-estimator:hover .sk-estimator-doc-link:hover,\n",
       ".sk-estimator-doc-link:hover,\n",
       "div.sk-label-container:hover .sk-estimator-doc-link:hover,\n",
       ".sk-estimator-doc-link:hover {\n",
       "  /* unfitted */\n",
       "  background-color: var(--sklearn-color-unfitted-level-3);\n",
       "  color: var(--sklearn-color-background);\n",
       "  text-decoration: none;\n",
       "}\n",
       "\n",
       "div.sk-estimator.fitted:hover .sk-estimator-doc-link.fitted:hover,\n",
       ".sk-estimator-doc-link.fitted:hover,\n",
       "div.sk-label-container:hover .sk-estimator-doc-link.fitted:hover,\n",
       ".sk-estimator-doc-link.fitted:hover {\n",
       "  /* fitted */\n",
       "  background-color: var(--sklearn-color-fitted-level-3);\n",
       "  color: var(--sklearn-color-background);\n",
       "  text-decoration: none;\n",
       "}\n",
       "\n",
       "/* Span, style for the box shown on hovering the info icon */\n",
       ".sk-estimator-doc-link span {\n",
       "  display: none;\n",
       "  z-index: 9999;\n",
       "  position: relative;\n",
       "  font-weight: normal;\n",
       "  right: .2ex;\n",
       "  padding: .5ex;\n",
       "  margin: .5ex;\n",
       "  width: min-content;\n",
       "  min-width: 20ex;\n",
       "  max-width: 50ex;\n",
       "  color: var(--sklearn-color-text);\n",
       "  box-shadow: 2pt 2pt 4pt #999;\n",
       "  /* unfitted */\n",
       "  background: var(--sklearn-color-unfitted-level-0);\n",
       "  border: .5pt solid var(--sklearn-color-unfitted-level-3);\n",
       "}\n",
       "\n",
       ".sk-estimator-doc-link.fitted span {\n",
       "  /* fitted */\n",
       "  background: var(--sklearn-color-fitted-level-0);\n",
       "  border: var(--sklearn-color-fitted-level-3);\n",
       "}\n",
       "\n",
       ".sk-estimator-doc-link:hover span {\n",
       "  display: block;\n",
       "}\n",
       "\n",
       "/* \"?\"-specific style due to the `<a>` HTML tag */\n",
       "\n",
       "#sk-container-id-1 a.estimator_doc_link {\n",
       "  float: right;\n",
       "  font-size: 1rem;\n",
       "  line-height: 1em;\n",
       "  font-family: monospace;\n",
       "  background-color: var(--sklearn-color-background);\n",
       "  border-radius: 1rem;\n",
       "  height: 1rem;\n",
       "  width: 1rem;\n",
       "  text-decoration: none;\n",
       "  /* unfitted */\n",
       "  color: var(--sklearn-color-unfitted-level-1);\n",
       "  border: var(--sklearn-color-unfitted-level-1) 1pt solid;\n",
       "}\n",
       "\n",
       "#sk-container-id-1 a.estimator_doc_link.fitted {\n",
       "  /* fitted */\n",
       "  border: var(--sklearn-color-fitted-level-1) 1pt solid;\n",
       "  color: var(--sklearn-color-fitted-level-1);\n",
       "}\n",
       "\n",
       "/* On hover */\n",
       "#sk-container-id-1 a.estimator_doc_link:hover {\n",
       "  /* unfitted */\n",
       "  background-color: var(--sklearn-color-unfitted-level-3);\n",
       "  color: var(--sklearn-color-background);\n",
       "  text-decoration: none;\n",
       "}\n",
       "\n",
       "#sk-container-id-1 a.estimator_doc_link.fitted:hover {\n",
       "  /* fitted */\n",
       "  background-color: var(--sklearn-color-fitted-level-3);\n",
       "}\n",
       "</style><div id=\"sk-container-id-1\" class=\"sk-top-container\"><div class=\"sk-text-repr-fallback\"><pre>GridSearchCV(cv=5,\n",
       "             estimator=Pipeline(steps=[(&#x27;data pre-processing&#x27;,\n",
       "                                        ColumnTransformer(transformers=[(&#x27;bmi &#x27;\n",
       "                                                                         &#x27;pipeline&#x27;,\n",
       "                                                                         Pipeline(steps=[(&#x27;outlier &#x27;\n",
       "                                                                                          &#x27;handling&#x27;,\n",
       "                                                                                          iqr_outlier_handler()),\n",
       "                                                                                         (&#x27;min &#x27;\n",
       "                                                                                          &#x27;max &#x27;\n",
       "                                                                                          &#x27;scaling&#x27;,\n",
       "                                                                                          MinMaxScaler())]),\n",
       "                                                                         [&#x27;bmi&#x27;]),\n",
       "                                                                        (&#x27;age &#x27;\n",
       "                                                                         &#x27;pipeline&#x27;,\n",
       "                                                                         Pipeline(steps=[(&#x27;min &#x27;\n",
       "                                                                                          &#x27;max &#x27;\n",
       "                                                                                          &#x27;scaling &#x27;\n",
       "                                                                                          &#x27;age&#x27;,\n",
       "                                                                                          MinMaxScaler())]),\n",
       "                                                                         [&#x27;age&#x27;]),\n",
       "                                                                        (&#x27;sex &#x27;\n",
       "                                                                         &#x27;pipeline&#x27;,\n",
       "                                                                         Pipeline(steps=[(&#x27;label &#x27;...\n",
       "                                                                                          &#x27;encoder&#x27;,\n",
       "                                                                                          ModifiedLabelEncoder())]),\n",
       "                                                                         [&#x27;smoker&#x27;]),\n",
       "                                                                        (&#x27;region &#x27;\n",
       "                                                                         &#x27;pipeline&#x27;,\n",
       "                                                                         Pipeline(steps=[(&#x27;ohe&#x27;,\n",
       "                                                                                          OneHotEncoder(handle_unknown=&#x27;ignore&#x27;))]),\n",
       "                                                                         [&#x27;region&#x27;])])),\n",
       "                                       (&#x27;model&#x27;, GradientBoostingRegressor())]),\n",
       "             n_jobs=-1,\n",
       "             param_grid={&#x27;model__learning_rate&#x27;: [0.01, 0.04, 0.07, 0.1, 0.3,\n",
       "                                                  0.6, 0.8],\n",
       "                         &#x27;model__max_depth&#x27;: [3, 4, 6, 8, 10],\n",
       "                         &#x27;model__n_estimators&#x27;: [50, 65, 80, 100, 150]},\n",
       "             verbose=1)</pre><b>In a Jupyter environment, please rerun this cell to show the HTML representation or trust the notebook. <br />On GitHub, the HTML representation is unable to render, please try loading this page with nbviewer.org.</b></div><div class=\"sk-container\" hidden><div class=\"sk-item sk-dashed-wrapped\"><div class=\"sk-label-container\"><div class=\"sk-label fitted sk-toggleable\"><input class=\"sk-toggleable__control sk-hidden--visually\" id=\"sk-estimator-id-1\" type=\"checkbox\" ><label for=\"sk-estimator-id-1\" class=\"sk-toggleable__label fitted sk-toggleable__label-arrow fitted\">&nbsp;&nbsp;GridSearchCV<a class=\"sk-estimator-doc-link fitted\" rel=\"noreferrer\" target=\"_blank\" href=\"https://scikit-learn.org/1.4/modules/generated/sklearn.model_selection.GridSearchCV.html\">?<span>Documentation for GridSearchCV</span></a><span class=\"sk-estimator-doc-link fitted\">i<span>Fitted</span></span></label><div class=\"sk-toggleable__content fitted\"><pre>GridSearchCV(cv=5,\n",
       "             estimator=Pipeline(steps=[(&#x27;data pre-processing&#x27;,\n",
       "                                        ColumnTransformer(transformers=[(&#x27;bmi &#x27;\n",
       "                                                                         &#x27;pipeline&#x27;,\n",
       "                                                                         Pipeline(steps=[(&#x27;outlier &#x27;\n",
       "                                                                                          &#x27;handling&#x27;,\n",
       "                                                                                          iqr_outlier_handler()),\n",
       "                                                                                         (&#x27;min &#x27;\n",
       "                                                                                          &#x27;max &#x27;\n",
       "                                                                                          &#x27;scaling&#x27;,\n",
       "                                                                                          MinMaxScaler())]),\n",
       "                                                                         [&#x27;bmi&#x27;]),\n",
       "                                                                        (&#x27;age &#x27;\n",
       "                                                                         &#x27;pipeline&#x27;,\n",
       "                                                                         Pipeline(steps=[(&#x27;min &#x27;\n",
       "                                                                                          &#x27;max &#x27;\n",
       "                                                                                          &#x27;scaling &#x27;\n",
       "                                                                                          &#x27;age&#x27;,\n",
       "                                                                                          MinMaxScaler())]),\n",
       "                                                                         [&#x27;age&#x27;]),\n",
       "                                                                        (&#x27;sex &#x27;\n",
       "                                                                         &#x27;pipeline&#x27;,\n",
       "                                                                         Pipeline(steps=[(&#x27;label &#x27;...\n",
       "                                                                                          &#x27;encoder&#x27;,\n",
       "                                                                                          ModifiedLabelEncoder())]),\n",
       "                                                                         [&#x27;smoker&#x27;]),\n",
       "                                                                        (&#x27;region &#x27;\n",
       "                                                                         &#x27;pipeline&#x27;,\n",
       "                                                                         Pipeline(steps=[(&#x27;ohe&#x27;,\n",
       "                                                                                          OneHotEncoder(handle_unknown=&#x27;ignore&#x27;))]),\n",
       "                                                                         [&#x27;region&#x27;])])),\n",
       "                                       (&#x27;model&#x27;, GradientBoostingRegressor())]),\n",
       "             n_jobs=-1,\n",
       "             param_grid={&#x27;model__learning_rate&#x27;: [0.01, 0.04, 0.07, 0.1, 0.3,\n",
       "                                                  0.6, 0.8],\n",
       "                         &#x27;model__max_depth&#x27;: [3, 4, 6, 8, 10],\n",
       "                         &#x27;model__n_estimators&#x27;: [50, 65, 80, 100, 150]},\n",
       "             verbose=1)</pre></div> </div></div><div class=\"sk-parallel\"><div class=\"sk-parallel-item\"><div class=\"sk-item\"><div class=\"sk-label-container\"><div class=\"sk-label fitted sk-toggleable\"><input class=\"sk-toggleable__control sk-hidden--visually\" id=\"sk-estimator-id-2\" type=\"checkbox\" ><label for=\"sk-estimator-id-2\" class=\"sk-toggleable__label fitted sk-toggleable__label-arrow fitted\">estimator: Pipeline</label><div class=\"sk-toggleable__content fitted\"><pre>Pipeline(steps=[(&#x27;data pre-processing&#x27;,\n",
       "                 ColumnTransformer(transformers=[(&#x27;bmi pipeline&#x27;,\n",
       "                                                  Pipeline(steps=[(&#x27;outlier &#x27;\n",
       "                                                                   &#x27;handling&#x27;,\n",
       "                                                                   iqr_outlier_handler()),\n",
       "                                                                  (&#x27;min max &#x27;\n",
       "                                                                   &#x27;scaling&#x27;,\n",
       "                                                                   MinMaxScaler())]),\n",
       "                                                  [&#x27;bmi&#x27;]),\n",
       "                                                 (&#x27;age pipeline&#x27;,\n",
       "                                                  Pipeline(steps=[(&#x27;min max &#x27;\n",
       "                                                                   &#x27;scaling &#x27;\n",
       "                                                                   &#x27;age&#x27;,\n",
       "                                                                   MinMaxScaler())]),\n",
       "                                                  [&#x27;age&#x27;]),\n",
       "                                                 (&#x27;sex pipeline&#x27;,\n",
       "                                                  Pipeline(steps=[(&#x27;label &#x27;\n",
       "                                                                   &#x27;encoder&#x27;,\n",
       "                                                                   ModifiedLabelEncoder())]),\n",
       "                                                  [&#x27;sex&#x27;]),\n",
       "                                                 (&#x27;smoker pipeline&#x27;,\n",
       "                                                  Pipeline(steps=[(&#x27;label &#x27;\n",
       "                                                                   &#x27;encoder&#x27;,\n",
       "                                                                   ModifiedLabelEncoder())]),\n",
       "                                                  [&#x27;smoker&#x27;]),\n",
       "                                                 (&#x27;region pipeline&#x27;,\n",
       "                                                  Pipeline(steps=[(&#x27;ohe&#x27;,\n",
       "                                                                   OneHotEncoder(handle_unknown=&#x27;ignore&#x27;))]),\n",
       "                                                  [&#x27;region&#x27;])])),\n",
       "                (&#x27;model&#x27;, GradientBoostingRegressor())])</pre></div> </div></div><div class=\"sk-serial\"><div class=\"sk-item\"><div class=\"sk-serial\"><div class=\"sk-item sk-dashed-wrapped\"><div class=\"sk-label-container\"><div class=\"sk-label fitted sk-toggleable\"><input class=\"sk-toggleable__control sk-hidden--visually\" id=\"sk-estimator-id-3\" type=\"checkbox\" ><label for=\"sk-estimator-id-3\" class=\"sk-toggleable__label fitted sk-toggleable__label-arrow fitted\">&nbsp;data pre-processing: ColumnTransformer<a class=\"sk-estimator-doc-link fitted\" rel=\"noreferrer\" target=\"_blank\" href=\"https://scikit-learn.org/1.4/modules/generated/sklearn.compose.ColumnTransformer.html\">?<span>Documentation for data pre-processing: ColumnTransformer</span></a></label><div class=\"sk-toggleable__content fitted\"><pre>ColumnTransformer(transformers=[(&#x27;bmi pipeline&#x27;,\n",
       "                                 Pipeline(steps=[(&#x27;outlier handling&#x27;,\n",
       "                                                  iqr_outlier_handler()),\n",
       "                                                 (&#x27;min max scaling&#x27;,\n",
       "                                                  MinMaxScaler())]),\n",
       "                                 [&#x27;bmi&#x27;]),\n",
       "                                (&#x27;age pipeline&#x27;,\n",
       "                                 Pipeline(steps=[(&#x27;min max scaling age&#x27;,\n",
       "                                                  MinMaxScaler())]),\n",
       "                                 [&#x27;age&#x27;]),\n",
       "                                (&#x27;sex pipeline&#x27;,\n",
       "                                 Pipeline(steps=[(&#x27;label encoder&#x27;,\n",
       "                                                  ModifiedLabelEncoder())]),\n",
       "                                 [&#x27;sex&#x27;]),\n",
       "                                (&#x27;smoker pipeline&#x27;,\n",
       "                                 Pipeline(steps=[(&#x27;label encoder&#x27;,\n",
       "                                                  ModifiedLabelEncoder())]),\n",
       "                                 [&#x27;smoker&#x27;]),\n",
       "                                (&#x27;region pipeline&#x27;,\n",
       "                                 Pipeline(steps=[(&#x27;ohe&#x27;,\n",
       "                                                  OneHotEncoder(handle_unknown=&#x27;ignore&#x27;))]),\n",
       "                                 [&#x27;region&#x27;])])</pre></div> </div></div><div class=\"sk-parallel\"><div class=\"sk-parallel-item\"><div class=\"sk-item\"><div class=\"sk-label-container\"><div class=\"sk-label fitted sk-toggleable\"><input class=\"sk-toggleable__control sk-hidden--visually\" id=\"sk-estimator-id-4\" type=\"checkbox\" ><label for=\"sk-estimator-id-4\" class=\"sk-toggleable__label fitted sk-toggleable__label-arrow fitted\">bmi pipeline</label><div class=\"sk-toggleable__content fitted\"><pre>[&#x27;bmi&#x27;]</pre></div> </div></div><div class=\"sk-serial\"><div class=\"sk-item\"><div class=\"sk-serial\"><div class=\"sk-item\"><div class=\"sk-estimator fitted sk-toggleable\"><input class=\"sk-toggleable__control sk-hidden--visually\" id=\"sk-estimator-id-5\" type=\"checkbox\" ><label for=\"sk-estimator-id-5\" class=\"sk-toggleable__label fitted sk-toggleable__label-arrow fitted\">iqr_outlier_handler</label><div class=\"sk-toggleable__content fitted\"><pre>iqr_outlier_handler()</pre></div> </div></div><div class=\"sk-item\"><div class=\"sk-estimator fitted sk-toggleable\"><input class=\"sk-toggleable__control sk-hidden--visually\" id=\"sk-estimator-id-6\" type=\"checkbox\" ><label for=\"sk-estimator-id-6\" class=\"sk-toggleable__label fitted sk-toggleable__label-arrow fitted\">&nbsp;MinMaxScaler<a class=\"sk-estimator-doc-link fitted\" rel=\"noreferrer\" target=\"_blank\" href=\"https://scikit-learn.org/1.4/modules/generated/sklearn.preprocessing.MinMaxScaler.html\">?<span>Documentation for MinMaxScaler</span></a></label><div class=\"sk-toggleable__content fitted\"><pre>MinMaxScaler()</pre></div> </div></div></div></div></div></div></div><div class=\"sk-parallel-item\"><div class=\"sk-item\"><div class=\"sk-label-container\"><div class=\"sk-label fitted sk-toggleable\"><input class=\"sk-toggleable__control sk-hidden--visually\" id=\"sk-estimator-id-7\" type=\"checkbox\" ><label for=\"sk-estimator-id-7\" class=\"sk-toggleable__label fitted sk-toggleable__label-arrow fitted\">age pipeline</label><div class=\"sk-toggleable__content fitted\"><pre>[&#x27;age&#x27;]</pre></div> </div></div><div class=\"sk-serial\"><div class=\"sk-item\"><div class=\"sk-serial\"><div class=\"sk-item\"><div class=\"sk-estimator fitted sk-toggleable\"><input class=\"sk-toggleable__control sk-hidden--visually\" id=\"sk-estimator-id-8\" type=\"checkbox\" ><label for=\"sk-estimator-id-8\" class=\"sk-toggleable__label fitted sk-toggleable__label-arrow fitted\">&nbsp;MinMaxScaler<a class=\"sk-estimator-doc-link fitted\" rel=\"noreferrer\" target=\"_blank\" href=\"https://scikit-learn.org/1.4/modules/generated/sklearn.preprocessing.MinMaxScaler.html\">?<span>Documentation for MinMaxScaler</span></a></label><div class=\"sk-toggleable__content fitted\"><pre>MinMaxScaler()</pre></div> </div></div></div></div></div></div></div><div class=\"sk-parallel-item\"><div class=\"sk-item\"><div class=\"sk-label-container\"><div class=\"sk-label fitted sk-toggleable\"><input class=\"sk-toggleable__control sk-hidden--visually\" id=\"sk-estimator-id-9\" type=\"checkbox\" ><label for=\"sk-estimator-id-9\" class=\"sk-toggleable__label fitted sk-toggleable__label-arrow fitted\">sex pipeline</label><div class=\"sk-toggleable__content fitted\"><pre>[&#x27;sex&#x27;]</pre></div> </div></div><div class=\"sk-serial\"><div class=\"sk-item\"><div class=\"sk-serial\"><div class=\"sk-item\"><div class=\"sk-estimator fitted sk-toggleable\"><input class=\"sk-toggleable__control sk-hidden--visually\" id=\"sk-estimator-id-10\" type=\"checkbox\" ><label for=\"sk-estimator-id-10\" class=\"sk-toggleable__label fitted sk-toggleable__label-arrow fitted\">ModifiedLabelEncoder</label><div class=\"sk-toggleable__content fitted\"><pre>ModifiedLabelEncoder()</pre></div> </div></div></div></div></div></div></div><div class=\"sk-parallel-item\"><div class=\"sk-item\"><div class=\"sk-label-container\"><div class=\"sk-label fitted sk-toggleable\"><input class=\"sk-toggleable__control sk-hidden--visually\" id=\"sk-estimator-id-11\" type=\"checkbox\" ><label for=\"sk-estimator-id-11\" class=\"sk-toggleable__label fitted sk-toggleable__label-arrow fitted\">smoker pipeline</label><div class=\"sk-toggleable__content fitted\"><pre>[&#x27;smoker&#x27;]</pre></div> </div></div><div class=\"sk-serial\"><div class=\"sk-item\"><div class=\"sk-serial\"><div class=\"sk-item\"><div class=\"sk-estimator fitted sk-toggleable\"><input class=\"sk-toggleable__control sk-hidden--visually\" id=\"sk-estimator-id-12\" type=\"checkbox\" ><label for=\"sk-estimator-id-12\" class=\"sk-toggleable__label fitted sk-toggleable__label-arrow fitted\">ModifiedLabelEncoder</label><div class=\"sk-toggleable__content fitted\"><pre>ModifiedLabelEncoder()</pre></div> </div></div></div></div></div></div></div><div class=\"sk-parallel-item\"><div class=\"sk-item\"><div class=\"sk-label-container\"><div class=\"sk-label fitted sk-toggleable\"><input class=\"sk-toggleable__control sk-hidden--visually\" id=\"sk-estimator-id-13\" type=\"checkbox\" ><label for=\"sk-estimator-id-13\" class=\"sk-toggleable__label fitted sk-toggleable__label-arrow fitted\">region pipeline</label><div class=\"sk-toggleable__content fitted\"><pre>[&#x27;region&#x27;]</pre></div> </div></div><div class=\"sk-serial\"><div class=\"sk-item\"><div class=\"sk-serial\"><div class=\"sk-item\"><div class=\"sk-estimator fitted sk-toggleable\"><input class=\"sk-toggleable__control sk-hidden--visually\" id=\"sk-estimator-id-14\" type=\"checkbox\" ><label for=\"sk-estimator-id-14\" class=\"sk-toggleable__label fitted sk-toggleable__label-arrow fitted\">&nbsp;OneHotEncoder<a class=\"sk-estimator-doc-link fitted\" rel=\"noreferrer\" target=\"_blank\" href=\"https://scikit-learn.org/1.4/modules/generated/sklearn.preprocessing.OneHotEncoder.html\">?<span>Documentation for OneHotEncoder</span></a></label><div class=\"sk-toggleable__content fitted\"><pre>OneHotEncoder(handle_unknown=&#x27;ignore&#x27;)</pre></div> </div></div></div></div></div></div></div></div></div><div class=\"sk-item\"><div class=\"sk-estimator fitted sk-toggleable\"><input class=\"sk-toggleable__control sk-hidden--visually\" id=\"sk-estimator-id-15\" type=\"checkbox\" ><label for=\"sk-estimator-id-15\" class=\"sk-toggleable__label fitted sk-toggleable__label-arrow fitted\">&nbsp;GradientBoostingRegressor<a class=\"sk-estimator-doc-link fitted\" rel=\"noreferrer\" target=\"_blank\" href=\"https://scikit-learn.org/1.4/modules/generated/sklearn.ensemble.GradientBoostingRegressor.html\">?<span>Documentation for GradientBoostingRegressor</span></a></label><div class=\"sk-toggleable__content fitted\"><pre>GradientBoostingRegressor()</pre></div> </div></div></div></div></div></div></div></div></div></div></div>"
      ],
      "text/plain": [
       "GridSearchCV(cv=5,\n",
       "             estimator=Pipeline(steps=[('data pre-processing',\n",
       "                                        ColumnTransformer(transformers=[('bmi '\n",
       "                                                                         'pipeline',\n",
       "                                                                         Pipeline(steps=[('outlier '\n",
       "                                                                                          'handling',\n",
       "                                                                                          iqr_outlier_handler()),\n",
       "                                                                                         ('min '\n",
       "                                                                                          'max '\n",
       "                                                                                          'scaling',\n",
       "                                                                                          MinMaxScaler())]),\n",
       "                                                                         ['bmi']),\n",
       "                                                                        ('age '\n",
       "                                                                         'pipeline',\n",
       "                                                                         Pipeline(steps=[('min '\n",
       "                                                                                          'max '\n",
       "                                                                                          'scaling '\n",
       "                                                                                          'age',\n",
       "                                                                                          MinMaxScaler())]),\n",
       "                                                                         ['age']),\n",
       "                                                                        ('sex '\n",
       "                                                                         'pipeline',\n",
       "                                                                         Pipeline(steps=[('label '...\n",
       "                                                                                          'encoder',\n",
       "                                                                                          ModifiedLabelEncoder())]),\n",
       "                                                                         ['smoker']),\n",
       "                                                                        ('region '\n",
       "                                                                         'pipeline',\n",
       "                                                                         Pipeline(steps=[('ohe',\n",
       "                                                                                          OneHotEncoder(handle_unknown='ignore'))]),\n",
       "                                                                         ['region'])])),\n",
       "                                       ('model', GradientBoostingRegressor())]),\n",
       "             n_jobs=-1,\n",
       "             param_grid={'model__learning_rate': [0.01, 0.04, 0.07, 0.1, 0.3,\n",
       "                                                  0.6, 0.8],\n",
       "                         'model__max_depth': [3, 4, 6, 8, 10],\n",
       "                         'model__n_estimators': [50, 65, 80, 100, 150]},\n",
       "             verbose=1)"
      ]
     },
     "execution_count": 143,
     "metadata": {},
     "output_type": "execute_result"
    }
   ],
   "source": [
    "model_pipeline_gcv.fit(xtrainp, np.log1p(ytrainp))"
   ]
  },
  {
   "cell_type": "code",
   "execution_count": 144,
   "id": "d3bfb12a-c0d6-4807-9ea1-2e9ed340c415",
   "metadata": {},
   "outputs": [
    {
     "name": "stderr",
     "output_type": "stream",
     "text": [
      "C:\\Users\\DELL\\anaconda3\\Lib\\site-packages\\sklearn\\preprocessing\\_label.py:132: DataConversionWarning: A column-vector y was passed when a 1d array was expected. Please change the shape of y to (n_samples, ), for example using ravel().\n",
      "  y = column_or_1d(y, dtype=self.classes_.dtype, warn=True)\n",
      "C:\\Users\\DELL\\anaconda3\\Lib\\site-packages\\sklearn\\preprocessing\\_label.py:132: DataConversionWarning: A column-vector y was passed when a 1d array was expected. Please change the shape of y to (n_samples, ), for example using ravel().\n",
      "  y = column_or_1d(y, dtype=self.classes_.dtype, warn=True)\n"
     ]
    }
   ],
   "source": [
    "model_pipeline_gcv_ypred = model_pipeline_gcv.predict(xtestp)"
   ]
  },
  {
   "cell_type": "code",
   "execution_count": 145,
   "id": "cfc28a55-5283-4ea2-9a1c-eb0e7f87452a",
   "metadata": {},
   "outputs": [],
   "source": [
    "model_pipeline_gcv_ypred_true = np.expm1(model_pipeline_gcv_ypred)"
   ]
  },
  {
   "cell_type": "code",
   "execution_count": 146,
   "id": "fd723f22-b04d-4a58-8943-5a3273c435e7",
   "metadata": {},
   "outputs": [
    {
     "name": "stdout",
     "output_type": "stream",
     "text": [
      "Final Hyperparameter Model Evaluation Metrics\n",
      "MSE : 19277199.615526095\n",
      "RMSE: 4453.558521959912\n",
      "MAE : 2108.062139513707\n",
      "R² Score: 0.8950935321992176\n"
     ]
    }
   ],
   "source": [
    "model_pipeline_gcv_mse = mean_squared_error(ytestp, model_pipeline_gcv_ypred_true)\n",
    "model_pipeline_gcv_rmse = np.sqrt(mse)\n",
    "model_pipeline_gcv_mae = mean_absolute_error(ytestp, model_pipeline_gcv_ypred_true)\n",
    "model_pipeline_gcv_r2 = r2_score(ytestp, model_pipeline_gcv_ypred_true)\n",
    "print(\"Final Hyperparameter Model Evaluation Metrics\")\n",
    "print(\"MSE :\", model_pipeline_gcv_mse)\n",
    "print(\"RMSE:\", model_pipeline_gcv_rmse)\n",
    "print(\"MAE :\", model_pipeline_gcv_mae)\n",
    "print(\"R² Score:\", model_pipeline_gcv_r2)"
   ]
  },
  {
   "cell_type": "code",
   "execution_count": 147,
   "id": "a770902d-1556-4d1c-9b59-90ee47fd81a9",
   "metadata": {},
   "outputs": [
    {
     "name": "stdout",
     "output_type": "stream",
     "text": [
      "Best Parameters: {'model__learning_rate': 0.07, 'model__max_depth': 3, 'model__n_estimators': 65}\n",
      "Best Score (CV R²): 0.7948874053810577\n",
      "Best Estimator:\n",
      " Pipeline(steps=[('data pre-processing',\n",
      "                 ColumnTransformer(transformers=[('bmi pipeline',\n",
      "                                                  Pipeline(steps=[('outlier '\n",
      "                                                                   'handling',\n",
      "                                                                   iqr_outlier_handler()),\n",
      "                                                                  ('min max '\n",
      "                                                                   'scaling',\n",
      "                                                                   MinMaxScaler())]),\n",
      "                                                  ['bmi']),\n",
      "                                                 ('age pipeline',\n",
      "                                                  Pipeline(steps=[('min max '\n",
      "                                                                   'scaling '\n",
      "                                                                   'age',\n",
      "                                                                   MinMaxScaler())]),\n",
      "                                                  ['age']),\n",
      "                                                 ('sex pipeline',\n",
      "                                                  Pipeline(steps=[('label '\n",
      "                                                                   'encoder',\n",
      "                                                                   ModifiedLabelEncoder())]),\n",
      "                                                  ['sex']),\n",
      "                                                 ('smoker pipeline',\n",
      "                                                  Pipeline(steps=[('label '\n",
      "                                                                   'encoder',\n",
      "                                                                   ModifiedLabelEncoder())]),\n",
      "                                                  ['smoker']),\n",
      "                                                 ('region pipeline',\n",
      "                                                  Pipeline(steps=[('ohe',\n",
      "                                                                   OneHotEncoder(handle_unknown='ignore'))]),\n",
      "                                                  ['region'])])),\n",
      "                ('model',\n",
      "                 GradientBoostingRegressor(learning_rate=0.07,\n",
      "                                           n_estimators=65))])\n"
     ]
    }
   ],
   "source": [
    "print(\"Best Parameters:\", model_pipeline_gcv.best_params_)\n",
    "print(\"Best Score (CV R²):\", model_pipeline_gcv.best_score_)\n",
    "print(\"Best Estimator:\\n\", model_pipeline_gcv.best_estimator_)"
   ]
  },
  {
   "cell_type": "code",
   "execution_count": 148,
   "id": "af5a3176-5fa8-4cbf-9c88-a04f7e5b2354",
   "metadata": {},
   "outputs": [],
   "source": [
    "import pickle"
   ]
  },
  {
   "cell_type": "code",
   "execution_count": 149,
   "id": "7ae3c782-f356-42ee-8f02-53ffa63a9e8a",
   "metadata": {},
   "outputs": [],
   "source": [
    "with open('Insurance Cost Prediction full pkl','wb') as f:\n",
    "    pickle.dump(model_pipeline_gcv,f)"
   ]
  },
  {
   "cell_type": "code",
   "execution_count": null,
   "id": "795b5fca-9de8-4732-9374-c6dc810ac7f7",
   "metadata": {},
   "outputs": [],
   "source": []
  },
  {
   "cell_type": "code",
   "execution_count": null,
   "id": "7c511a71-f9e5-4f34-b2c4-6d62689ba619",
   "metadata": {},
   "outputs": [],
   "source": []
  },
  {
   "cell_type": "code",
   "execution_count": null,
   "id": "e40ff229-3da6-4cfd-94e4-1f30067837dd",
   "metadata": {},
   "outputs": [],
   "source": []
  },
  {
   "cell_type": "code",
   "execution_count": null,
   "id": "bb35fe9b-2aa2-42b5-867a-52361d8cd2c8",
   "metadata": {},
   "outputs": [],
   "source": []
  }
 ],
 "metadata": {
  "kernelspec": {
   "display_name": "Python 3 (ipykernel)",
   "language": "python",
   "name": "python3"
  },
  "language_info": {
   "codemirror_mode": {
    "name": "ipython",
    "version": 3
   },
   "file_extension": ".py",
   "mimetype": "text/x-python",
   "name": "python",
   "nbconvert_exporter": "python",
   "pygments_lexer": "ipython3",
   "version": "3.13.5"
  }
 },
 "nbformat": 4,
 "nbformat_minor": 5
}
